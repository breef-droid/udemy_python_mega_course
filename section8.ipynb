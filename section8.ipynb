{
 "cells": [
  {
   "cell_type": "code",
   "execution_count": 91,
   "metadata": {},
   "outputs": [],
   "source": [
    "def sentence_maker(phrase):\n",
    "    phrase = phrase.lower()\n",
    "    capitalized = phrase.capitalize()\n",
    "    interrogatives = (\"how\", \"what\", \"why\")\n",
    "    punctuations = (\"!\", \",\", \".\", \"?\")\n",
    "\n",
    "    while capitalized.endswith(punctuations):\n",
    "        capitalized = capitalized[:-1]\n",
    "    \n",
    "    if phrase.startswith(interrogatives):\n",
    "        return f\"{capitalized}?\"\n",
    "    else:\n",
    "        return f\"{capitalized}.\"\n",
    "\n",
    "def user_text():\n",
    "    results = []\n",
    "    output = \"\"\n",
    "\n",
    "    while True:\n",
    "        user_input = input(\"Ma se kind: \")\n",
    "        if user_input == \"\\end\":\n",
    "            break\n",
    "        else: \n",
    "            temp = sentence_maker(user_input)\n",
    "            results.append(temp)\n",
    "\n",
    "    # for i in results:\n",
    "    #     output += f\"{sentence_maker(i)} \"\n",
    "    \n",
    "    return \" \".join(results).rstrip()\n",
    "\n"
   ]
  },
  {
   "cell_type": "code",
   "execution_count": 81,
   "metadata": {},
   "outputs": [
    {
     "name": "stdout",
     "output_type": "stream",
     "text": [
      "Why you ma?\n",
      "How jou ma?\n",
      "What jou ma?\n",
      "Test jou ma.\n"
     ]
    }
   ],
   "source": [
    "tests = [\"why you ma?????????!!!!!!!!\", \"how jou ma\", \"what jou ma\", \"test jou ma.\"]\n",
    "\n",
    "for test in tests:\n",
    "    print(sentence_maker(test))"
   ]
  },
  {
   "cell_type": "code",
   "execution_count": 92,
   "metadata": {},
   "outputs": [
    {
     "data": {
      "text/plain": [
       "'How?'"
      ]
     },
     "execution_count": 92,
     "metadata": {},
     "output_type": "execute_result"
    }
   ],
   "source": [
    "user_text()"
   ]
  },
  {
   "cell_type": "code",
   "execution_count": 85,
   "metadata": {},
   "outputs": [
    {
     "name": "stdout",
     "output_type": "stream",
     "text": [
      "Help on method_descriptor:\n",
      "\n",
      "strip(self, chars=None, /)\n",
      "    Return a copy of the string with leading and trailing whitespace removed.\n",
      "    \n",
      "    If chars is given and not None, remove characters in chars instead.\n",
      "\n"
     ]
    }
   ],
   "source": [
    "help(str.strip)"
   ]
  },
  {
   "cell_type": "code",
   "execution_count": null,
   "metadata": {},
   "outputs": [],
   "source": []
  }
 ],
 "metadata": {
  "kernelspec": {
   "display_name": "Python 3.10.0 64-bit",
   "language": "python",
   "name": "python3"
  },
  "language_info": {
   "codemirror_mode": {
    "name": "ipython",
    "version": 3
   },
   "file_extension": ".py",
   "mimetype": "text/x-python",
   "name": "python",
   "nbconvert_exporter": "python",
   "pygments_lexer": "ipython3",
   "version": "3.10.0"
  },
  "orig_nbformat": 4,
  "vscode": {
   "interpreter": {
    "hash": "463e62ad2bb899d6fe38230bd5850dbad6ba1b0e22bf8bd765426624890397ac"
   }
  }
 },
 "nbformat": 4,
 "nbformat_minor": 2
}
