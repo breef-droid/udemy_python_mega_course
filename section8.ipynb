{
  "cells": [
    {
      "cell_type": "markdown",
      "source": [
        "# Section 8: Simple program"
      ],
      "metadata": {
        "id": "cQ1WbxJ_BOT1"
      }
    },
    {
      "cell_type": "code",
      "execution_count": null,
      "metadata": {
        "id": "VuHRXGhk_Uzu"
      },
      "outputs": [],
      "source": [
        "def sentence_maker(phrase):\n",
        "    phrase = phrase.lower()\n",
        "    capitalized = phrase.capitalize()\n",
        "    interrogatives = (\"how\", \"what\", \"why\")\n",
        "    punctuations = (\"!\", \",\", \".\", \"?\")\n",
        "\n",
        "    while capitalized.endswith(punctuations):\n",
        "        capitalized = capitalized[:-1]\n",
        "    \n",
        "    if phrase.startswith(interrogatives):\n",
        "        return f\"{capitalized}?\"\n",
        "    else:\n",
        "        return f\"{capitalized}.\"\n",
        "\n",
        "def user_text():\n",
        "    results = []\n",
        "    output = \"\"\n",
        "\n",
        "    while True:\n",
        "        user_input = input(\"Ma se kind: \")\n",
        "        if user_input == \"\\end\":\n",
        "            break\n",
        "        else: \n",
        "            temp = sentence_maker(user_input)\n",
        "            results.append(temp)\n",
        "\n",
        "    # for i in results:\n",
        "    #     output += f\"{sentence_maker(i)} \"\n",
        "    \n",
        "    return \" \".join(results).rstrip()\n",
        "\n"
      ]
    },
    {
      "cell_type": "code",
      "execution_count": null,
      "metadata": {
        "id": "QffR0lpi_Uzy",
        "outputId": "113cbbb1-905f-4419-f922-d44f136e43d1"
      },
      "outputs": [
        {
          "name": "stdout",
          "output_type": "stream",
          "text": [
            "Why you ma?\n",
            "How jou ma?\n",
            "What jou ma?\n",
            "Test jou ma.\n"
          ]
        }
      ],
      "source": [
        "tests = [\"why you ma?????????!!!!!!!!\", \"how jou ma\", \"what jou ma\", \"test jou ma.\"]\n",
        "\n",
        "for test in tests:\n",
        "    print(sentence_maker(test))"
      ]
    },
    {
      "cell_type": "code",
      "execution_count": null,
      "metadata": {
        "id": "ucFInCt8_Uzz",
        "outputId": "8c6c62ba-b908-4b15-cae1-e7ad6fc84ae5"
      },
      "outputs": [
        {
          "data": {
            "text/plain": [
              "'How?'"
            ]
          },
          "execution_count": 92,
          "metadata": {},
          "output_type": "execute_result"
        }
      ],
      "source": [
        "user_text()"
      ]
    },
    {
      "cell_type": "code",
      "execution_count": null,
      "metadata": {
        "id": "RQ8NK3as_Uz0",
        "outputId": "0c822c33-5416-4441-965d-0539e9236415"
      },
      "outputs": [
        {
          "name": "stdout",
          "output_type": "stream",
          "text": [
            "Help on method_descriptor:\n",
            "\n",
            "strip(self, chars=None, /)\n",
            "    Return a copy of the string with leading and trailing whitespace removed.\n",
            "    \n",
            "    If chars is given and not None, remove characters in chars instead.\n",
            "\n"
          ]
        }
      ],
      "source": [
        "help(str.strip)"
      ]
    },
    {
      "cell_type": "markdown",
      "source": [
        "# Section 9: List Comprehensions"
      ],
      "metadata": {
        "id": "c-2o7jXCBY_J"
      }
    },
    {
      "cell_type": "code",
      "execution_count": 1,
      "metadata": {
        "id": "x_E_xa9L_Uz0",
        "outputId": "06ffae7d-c83f-42fc-f8c2-5d0b9eabb92c",
        "colab": {
          "base_uri": "https://localhost:8080/"
        }
      },
      "outputs": [
        {
          "output_type": "execute_result",
          "data": {
            "text/plain": [
              "[22.1, 23.4, 34.0, 23.0]"
            ]
          },
          "metadata": {},
          "execution_count": 1
        }
      ],
      "source": [
        "# Simple list comprehension\n",
        "temps = [221, 234, 340, 230]\n",
        "new_temps = [temp / 10 for temp in temps]\n",
        "new_temps"
      ]
    },
    {
      "cell_type": "code",
      "source": [
        "# List comprehension with if conditional\n",
        "temps = [221, 234, 340, -9999, 230]\n",
        "new_temps = [temp / 10 for temp in temps if temp != -9999]\n",
        "new_temps"
      ],
      "metadata": {
        "id": "o4LlEUGtCWZf",
        "outputId": "1d3b4710-2ce1-46e4-9d7b-069cf2f768da",
        "colab": {
          "base_uri": "https://localhost:8080/"
        }
      },
      "execution_count": 2,
      "outputs": [
        {
          "output_type": "execute_result",
          "data": {
            "text/plain": [
              "[22.1, 23.4, 34.0, 23.0]"
            ]
          },
          "metadata": {},
          "execution_count": 2
        }
      ]
    },
    {
      "cell_type": "code",
      "source": [
        "#Define a function that takes as a parameter a list that contains both integers and strings and returns the list containing only the integers. For example, if I called your function with foo([99, 'no data', 95, 94, 'no data']) it should return [99, 95, 94].\n",
        "data = [99, 'no data', 95, 94, 'no data']\n",
        "def clean(data):\n",
        "    return [i for i in data if isinstance(i, int)]\n"
      ],
      "metadata": {
        "id": "jknjZzDtCxBV"
      },
      "execution_count": 7,
      "outputs": []
    },
    {
      "cell_type": "code",
      "source": [
        "clean(data)"
      ],
      "metadata": {
        "id": "RYHlP7xpDRkr",
        "outputId": "82d74aca-513c-47b4-b2af-74dbefa43f40",
        "colab": {
          "base_uri": "https://localhost:8080/"
        }
      },
      "execution_count": 8,
      "outputs": [
        {
          "output_type": "execute_result",
          "data": {
            "text/plain": [
              "[99, 95, 94]"
            ]
          },
          "metadata": {},
          "execution_count": 8
        }
      ]
    },
    {
      "cell_type": "code",
      "source": [
        "#Define a function that takes as parameter list of numbers and returns the list containing only the numbers that are greater than 0. For example, I called your function with foo([-5, 3, -1, 101]) it should return [3, 101].\n",
        "test = [-5, 3, -1, 101]\n",
        "def greater_0(lst):\n",
        "    return [i for i in lst if i > 0]\n",
        "\n",
        "greater_0(test)"
      ],
      "metadata": {
        "id": "zGiljGTrDTst",
        "outputId": "c07c567c-ab2f-4248-fe92-f472cc280f35",
        "colab": {
          "base_uri": "https://localhost:8080/"
        }
      },
      "execution_count": 9,
      "outputs": [
        {
          "output_type": "execute_result",
          "data": {
            "text/plain": [
              "[3, 101]"
            ]
          },
          "metadata": {},
          "execution_count": 9
        }
      ]
    },
    {
      "cell_type": "markdown",
      "source": [
        "## List comprehension if-else conditional\n",
        "General structure is `[variable for variable in data]` <br>\n",
        "If conditional: `[variable for variable in data if condition]`<br>\n",
        "If-else conditional: `[variable if condition else condition for variable in data]`<br>"
      ],
      "metadata": {
        "id": "L1__2h_KE9d6"
      }
    },
    {
      "cell_type": "code",
      "source": [
        "# List Comprehension If-Else Conditional\n",
        "temps = [221, 234, 340, -9999, 230]\n",
        "new_temps = [i if i != -9999 else 0 for i in temps]\n",
        "new_temps"
      ],
      "metadata": {
        "id": "x1GTuoeNELVX",
        "outputId": "07fc5e6f-aec8-4a05-845f-0b04cc2c6b35",
        "colab": {
          "base_uri": "https://localhost:8080/"
        }
      },
      "execution_count": 10,
      "outputs": [
        {
          "output_type": "execute_result",
          "data": {
            "text/plain": [
              "[221, 234, 340, 0, 230]"
            ]
          },
          "metadata": {},
          "execution_count": 10
        }
      ]
    },
    {
      "cell_type": "code",
      "source": [
        "# Define a function that takes as parameter a list that contains both numbers and strings and returns the same list but with zeros instead of strings. For example, I called your function with foo([99, 'no data', 95, 94, 'no data']) it should return [99, 0, 95, 94, 0].\n",
        "test = [99, 'no data', 95, 94, 'no data']\n",
        "def str_int(data):\n",
        "    return [i if isinstance(i, int) else 0 for i in data]\n",
        "\n",
        "str_int(test)"
      ],
      "metadata": {
        "id": "K_PvDRMEFycn",
        "outputId": "c67027b9-b770-459d-f902-a1050af8e4f3",
        "colab": {
          "base_uri": "https://localhost:8080/"
        }
      },
      "execution_count": 11,
      "outputs": [
        {
          "output_type": "execute_result",
          "data": {
            "text/plain": [
              "[99, 0, 95, 94, 0]"
            ]
          },
          "metadata": {},
          "execution_count": 11
        }
      ]
    },
    {
      "cell_type": "code",
      "source": [
        "# Define a function that takes as parameter a list that contains decimal numbers as strings and returns the sum of those numbers\n",
        "test = ['1.2', '2.6', '3.3']\n",
        "def convert_sum(lst):\n",
        "    return sum([float(i) for i in lst])\n",
        "\n",
        "convert_sum(test)"
      ],
      "metadata": {
        "id": "WjTABpCdGSW1",
        "outputId": "a9c78e47-a6b5-4f29-c45f-54b93c28579e",
        "colab": {
          "base_uri": "https://localhost:8080/"
        }
      },
      "execution_count": 12,
      "outputs": [
        {
          "output_type": "execute_result",
          "data": {
            "text/plain": [
              "7.1"
            ]
          },
          "metadata": {},
          "execution_count": 12
        }
      ]
    },
    {
      "cell_type": "markdown",
      "source": [
        "# Section 10: More Functions"
      ],
      "metadata": {
        "id": "mlIjF1R2L058"
      }
    },
    {
      "cell_type": "code",
      "source": [
        "# Implements a function that takes two strings as parameters, concatenates them, and returns the result.\n",
        "def concat(a, b):\n",
        "    return str(a) + str(b)\n",
        "\n",
        "tests = [(1, 2), (\"jou\", \"ma\")]\n",
        "for a, b in tests:\n",
        "    print(concat(a, b))\n"
      ],
      "metadata": {
        "id": "cZ8xmSMzG7a9",
        "outputId": "ada4aa30-8b8a-4fb7-ec8a-99ecf166ab2a",
        "colab": {
          "base_uri": "https://localhost:8080/"
        }
      },
      "execution_count": 16,
      "outputs": [
        {
          "output_type": "stream",
          "name": "stdout",
          "text": [
            "12\n",
            "jouma\n"
          ]
        }
      ]
    },
    {
      "cell_type": "markdown",
      "source": [
        "Creating functions with n-lengths non-keyword arguments. Use *args as the parameter"
      ],
      "metadata": {
        "id": "TeNQwkXhN7sS"
      }
    },
    {
      "cell_type": "code",
      "source": [
        "# args are returned as a tuple\n",
        "def mean(*args):\n",
        "    return args\n",
        "\n",
        "mean(4, 3, \"a\", \"hoe\")"
      ],
      "metadata": {
        "id": "oqmbmgDiMr0B",
        "outputId": "4f7a1819-b52e-45af-a619-9e74b6c32f79",
        "colab": {
          "base_uri": "https://localhost:8080/"
        }
      },
      "execution_count": 18,
      "outputs": [
        {
          "output_type": "execute_result",
          "data": {
            "text/plain": [
              "(4, 3, 'a', 'hoe')"
            ]
          },
          "metadata": {},
          "execution_count": 18
        }
      ]
    },
    {
      "cell_type": "code",
      "source": [
        "def mean(*args):\n",
        "    return sum(args) / len(args)\n",
        "\n",
        "mean(5, 4, 3, 2, 1, 5,6,3,2, 1, 5.6)"
      ],
      "metadata": {
        "id": "m0GE7SfqOTpy",
        "outputId": "e2ca1481-9521-4e7c-a715-92822d158d6b",
        "colab": {
          "base_uri": "https://localhost:8080/"
        }
      },
      "execution_count": 19,
      "outputs": [
        {
          "output_type": "execute_result",
          "data": {
            "text/plain": [
              "3.4181818181818184"
            ]
          },
          "metadata": {},
          "execution_count": 19
        }
      ]
    },
    {
      "cell_type": "code",
      "source": [
        "#Define a function that takes an indefinite number of strings as parameters and returns a list containing all the strings in UPPERCASE and sorted alphabetically.\n",
        "def upper_sort(*args):\n",
        "    return sorted([string.upper() for string in args])\n",
        "\n",
        "upper_sort(\"k\", \"z\", \"y\")"
      ],
      "metadata": {
        "id": "0EwBqVKWQv63",
        "outputId": "b3740950-2704-42c6-bdb7-70c184019e07",
        "colab": {
          "base_uri": "https://localhost:8080/"
        }
      },
      "execution_count": 20,
      "outputs": [
        {
          "output_type": "execute_result",
          "data": {
            "text/plain": [
              "['K', 'Y', 'Z']"
            ]
          },
          "metadata": {},
          "execution_count": 20
        }
      ]
    },
    {
      "cell_type": "markdown",
      "source": [
        "Creating a function with indefinite key word arguments. Use **kwargs."
      ],
      "metadata": {
        "id": "hj8Oz5AOR04O"
      }
    },
    {
      "cell_type": "code",
      "source": [
        "def mean(**kwargs):\n",
        "    return kwargs\n",
        "\n",
        "# mean(1, 2, 3) # will return error\n",
        "mean(a=1, b=2, c=3) # returns a dict"
      ],
      "metadata": {
        "id": "eEkAYNfIROh7",
        "outputId": "af45c60a-e7b4-4711-acd8-ece5620f3211",
        "colab": {
          "base_uri": "https://localhost:8080/"
        }
      },
      "execution_count": 22,
      "outputs": [
        {
          "output_type": "execute_result",
          "data": {
            "text/plain": [
              "{'a': 1, 'b': 2, 'c': 3}"
            ]
          },
          "metadata": {},
          "execution_count": 22
        }
      ]
    },
    {
      "cell_type": "markdown",
      "source": [
        "## Cheatsheet: More on Functions\n",
        "In this section, you learned that:\n",
        "\n",
        "Functions can have more than one parameter:\n",
        "\n",
        "```\n",
        "def volume(a, b, c):\n",
        "    return a * b * c\n",
        "```\n",
        "Functions can have default parameters (e.g. coefficient):\n",
        "\n",
        "```\n",
        "def converter(feet, coefficient = 3.2808):\n",
        "    meters = feet / coefficient\n",
        "    return meters\n",
        " \n",
        "print(converter(10))\n",
        "Output: 3.0480370641306997\n",
        "```\n",
        "\n",
        "Arguments can be passed as non-keyword (positional) arguments (e.g. a) or keyword arguments (e.g. b=2 and c=10):\n",
        "\n",
        "```\n",
        "def volume(a, b, c):\n",
        "    return a * b * c\n",
        " \n",
        "print(volume(1, b=2, c=10))\n",
        "```\n",
        "An *args parameter allows the  function to be called with an arbitrary number of non-keyword arguments:\n",
        "\n",
        "```\n",
        "def find_max(*args):\n",
        "    return max(args)\n",
        "print(find_max(3, 99, 1001, 2, 8))\n",
        "Output: 1001\n",
        "```\n",
        "\n",
        "A **kwargs parameter allows the function to be called with an arbitrary number of keyword arguments:\n",
        "\n",
        "```\n",
        "def find_winner(**kwargs):\n",
        "    return max(kwargs, key = kwargs.get)\n",
        " \n",
        "print(find_winner(Andy = 17, Marry = 19, Sim = 45, Kae = 34))\n",
        "Output: Sim\n",
        "```\n",
        "\n",
        "Here's a summary of function elements:\n",
        "![](https://img-c.udemycdn.com/redactor/raw/2019-07-24_19-07-36-0d306e1785ef65d50aeb204567dfb62f.png)\n"
      ],
      "metadata": {
        "id": "mF6c9QvbSX5k"
      }
    },
    {
      "cell_type": "code",
      "source": [],
      "metadata": {
        "id": "105ODWf8SClM"
      },
      "execution_count": null,
      "outputs": []
    }
  ],
  "metadata": {
    "kernelspec": {
      "display_name": "Python 3.10.0 64-bit",
      "language": "python",
      "name": "python3"
    },
    "language_info": {
      "codemirror_mode": {
        "name": "ipython",
        "version": 3
      },
      "file_extension": ".py",
      "mimetype": "text/x-python",
      "name": "python",
      "nbconvert_exporter": "python",
      "pygments_lexer": "ipython3",
      "version": "3.10.0"
    },
    "orig_nbformat": 4,
    "vscode": {
      "interpreter": {
        "hash": "463e62ad2bb899d6fe38230bd5850dbad6ba1b0e22bf8bd765426624890397ac"
      }
    },
    "colab": {
      "provenance": []
    }
  },
  "nbformat": 4,
  "nbformat_minor": 0
}