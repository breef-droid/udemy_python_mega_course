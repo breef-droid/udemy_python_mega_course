{
 "cells": [
  {
   "cell_type": "markdown",
   "metadata": {},
   "source": [
    "# Section3: Basics: Data Types\n",
    "[Course](https://www.udemy.com/course/former-python-mega-course-build-10-real-world-applications/learn/lecture/34362574#overview)\n",
    "## List types\n",
    "Lists are known as compound data types data structures, every data type has its own sintax. Lists are assigned by [].<br>\n",
    "We can use range objects converted to lists to generate a ranged list.<br>\n",
    "By using the dir(\"datatype\") function, we can see a list of all the classes attributes\n",
    "___\n",
    "## Dictionary Types\n",
    "Dicts are assigned by {}. Where dcit items are made up of key, value pairs. Access dicts values using their keys.\n",
    "___\n",
    "## Tuples\n",
    "Tuples are assinged by (). They are immutable data types, much quicker than lists but not modifiable. You can have a list in a tuple and mutate the list, but you cannot mutate the tupple itself.\n",
    "___\n",
    "## Slicing lists\n",
    "Can use negative indexing. Remember it is [x:y), and strings use the same indexing. so list[2] and string[2] work the same way."
   ]
  },
  {
   "cell_type": "code",
   "execution_count": 18,
   "metadata": {},
   "outputs": [],
   "source": [
    "def mean(value):\n",
    "    if isinstance(value, dict):\n",
    "        the_mean = sum(value.values()) / len(value)\n",
    "    else:\n",
    "        the_mean = sum(value) / len(value)\n",
    "    return the_mean"
   ]
  },
  {
   "cell_type": "code",
   "execution_count": 19,
   "metadata": {},
   "outputs": [],
   "source": [
    "student_grades = {\n",
    "                    \"Marry\": 9.1,\n",
    "                    \"Sim\": 8.8,\n",
    "                    \"John\":7.5\n",
    "                 }"
   ]
  },
  {
   "cell_type": "code",
   "execution_count": 20,
   "metadata": {},
   "outputs": [
    {
     "data": {
      "text/plain": [
       "8.466666666666667"
      ]
     },
     "execution_count": 20,
     "metadata": {},
     "output_type": "execute_result"
    }
   ],
   "source": [
    "mean(student_grades)"
   ]
  },
  {
   "cell_type": "code",
   "execution_count": 17,
   "metadata": {},
   "outputs": [
    {
     "name": "stdout",
     "output_type": "stream",
     "text": [
      "Help on method_descriptor:\n",
      "\n",
      "values(...)\n",
      "    D.values() -> an object providing a view on D's values\n",
      "\n"
     ]
    }
   ],
   "source": [
    "help(dict.values)"
   ]
  },
  {
   "cell_type": "markdown",
   "metadata": {},
   "source": [
    "# Section 6: User Inputs"
   ]
  },
  {
   "cell_type": "code",
   "execution_count": 23,
   "metadata": {},
   "outputs": [],
   "source": [
    "def weather_condition():\n",
    "    user_temp = float(input())\n",
    "    if user_temp > 7:\n",
    "        return \"Warm\"\n",
    "    else:\n",
    "        return \"Cold\""
   ]
  },
  {
   "cell_type": "code",
   "execution_count": 24,
   "metadata": {},
   "outputs": [
    {
     "data": {
      "text/plain": [
       "'Cold'"
      ]
     },
     "execution_count": 24,
     "metadata": {},
     "output_type": "execute_result"
    }
   ],
   "source": [
    "weather_condition()"
   ]
  },
  {
   "cell_type": "code",
   "execution_count": 26,
   "metadata": {},
   "outputs": [
    {
     "name": "stdout",
     "output_type": "stream",
     "text": [
      "Hello Brendan\n"
     ]
    }
   ],
   "source": [
    "user_input = input(\"Enter you name: \")\n",
    "message = f\"Hello {user_input}\"\n",
    "print(message)"
   ]
  },
  {
   "cell_type": "code",
   "execution_count": 28,
   "metadata": {},
   "outputs": [
    {
     "data": {
      "text/plain": [
       "'Hello B'"
      ]
     },
     "execution_count": 28,
     "metadata": {},
     "output_type": "execute_result"
    }
   ],
   "source": [
    "def greet():\n",
    "    user_name = input(\"Enter your name: \")\n",
    "    return f\"Hello {user_name}\"\n",
    "\n",
    "greet()"
   ]
  },
  {
   "cell_type": "code",
   "execution_count": 31,
   "metadata": {},
   "outputs": [
    {
     "data": {
      "text/plain": [
       "'Hi Harry'"
      ]
     },
     "execution_count": 31,
     "metadata": {},
     "output_type": "execute_result"
    }
   ],
   "source": [
    "def greet(name):\n",
    "    return f\"Hi {name.title()}\"\n",
    "\n",
    "greet(\"harry\")"
   ]
  },
  {
   "cell_type": "markdown",
   "metadata": {},
   "source": [
    "# Setion 7: Loops"
   ]
  },
  {
   "cell_type": "code",
   "execution_count": 32,
   "metadata": {},
   "outputs": [
    {
     "name": "stdout",
     "output_type": "stream",
     "text": [
      "9\n",
      "8\n",
      "7\n"
     ]
    }
   ],
   "source": [
    "monday_temps = [9.1,8.8,7.6]\n",
    "for temps in monday_temps:\n",
    "    print(int(temps))"
   ]
  },
  {
   "cell_type": "code",
   "execution_count": 1,
   "metadata": {},
   "outputs": [
    {
     "name": "stdout",
     "output_type": "stream",
     "text": [
      "0037682929928\n",
      "00423998200919\n"
     ]
    }
   ],
   "source": [
    "# Loop over the phone_numbers values and in each loop print out the phone number, but with '00' instead of '+'. In other words, your code should output:\n",
    "phone_numbers = {\"John Smith\": \"+37682929928\", \"Marry Simpons\": \"+423998200919\"}\n",
    "\n",
    "for values in phone_numbers.values():\n",
    "    print(values.replace(\"+\", \"00\"))"
   ]
  },
  {
   "cell_type": "code",
   "execution_count": null,
   "metadata": {},
   "outputs": [],
   "source": [
    "# While loops with breaks and continue\n",
    "username = ''\n",
    "\n",
    "# while username != 'pypy':\n",
    "#     username = input(\"Enter username: \")\n",
    "\n",
    "while True:\n",
    "    username = input(\"Enter username: \")\n",
    "    if username == 'pypy':\n",
    "        break #break moves the cursor out of the loop\n",
    "    else:\n",
    "        continue #continue moves the cursor to the begining of the loop\n"
   ]
  }
 ],
 "metadata": {
  "kernelspec": {
   "display_name": "Python 3.10.0 64-bit",
   "language": "python",
   "name": "python3"
  },
  "language_info": {
   "codemirror_mode": {
    "name": "ipython",
    "version": 3
   },
   "file_extension": ".py",
   "mimetype": "text/x-python",
   "name": "python",
   "nbconvert_exporter": "python",
   "pygments_lexer": "ipython3",
   "version": "3.10.0"
  },
  "orig_nbformat": 4,
  "vscode": {
   "interpreter": {
    "hash": "463e62ad2bb899d6fe38230bd5850dbad6ba1b0e22bf8bd765426624890397ac"
   }
  }
 },
 "nbformat": 4,
 "nbformat_minor": 2
}
