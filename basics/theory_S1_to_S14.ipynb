{
  "cells": [
    {
      "cell_type": "markdown",
      "metadata": {},
      "source": [
        "# Section3: Basics: Data Types\n",
        "[Course](https://www.udemy.com/course/former-python-mega-course-build-10-real-world-applications/learn/lecture/34362574#overview)\n",
        "## List types\n",
        "Lists are known as compound data types data structures, every data type has its own sintax. Lists are assigned by [].<br>\n",
        "We can use range objects converted to lists to generate a ranged list.<br>\n",
        "By using the dir(\"datatype\") function, we can see a list of all the classes attributes\n",
        "___\n",
        "## Dictionary Types\n",
        "Dicts are assigned by {}. Where dcit items are made up of key, value pairs. Access dicts values using their keys.\n",
        "___\n",
        "## Tuples\n",
        "Tuples are assinged by (). They are immutable data types, much quicker than lists but not modifiable. You can have a list in a tuple and mutate the list, but you cannot mutate the tupple itself.\n",
        "___\n",
        "## Slicing lists\n",
        "Can use negative indexing. Remember it is [x:y), and strings use the same indexing. so list[2] and string[2] work the same way."
      ]
    },
    {
      "cell_type": "code",
      "execution_count": 9,
      "metadata": {},
      "outputs": [],
      "source": [
        "def mean(value):\n",
        "    if isinstance(value, dict):\n",
        "        the_mean = sum(value.values()) / len(value)\n",
        "    else:\n",
        "        the_mean = sum(value) / len(value)\n",
        "    return the_mean"
      ]
    },
    {
      "cell_type": "code",
      "execution_count": 10,
      "metadata": {},
      "outputs": [],
      "source": [
        "student_grades = {\n",
        "                    \"Marry\": 9.1,\n",
        "                    \"Sim\": 8.8,\n",
        "                    \"John\":7.5\n",
        "                 }"
      ]
    },
    {
      "cell_type": "code",
      "execution_count": 11,
      "metadata": {},
      "outputs": [
        {
          "data": {
            "text/plain": [
              "8.466666666666667"
            ]
          },
          "execution_count": 11,
          "metadata": {},
          "output_type": "execute_result"
        }
      ],
      "source": [
        "mean(student_grades)"
      ]
    },
    {
      "cell_type": "code",
      "execution_count": 12,
      "metadata": {},
      "outputs": [
        {
          "name": "stdout",
          "output_type": "stream",
          "text": [
            "Help on method_descriptor:\n",
            "\n",
            "values(...)\n",
            "    D.values() -> an object providing a view on D's values\n",
            "\n"
          ]
        }
      ],
      "source": [
        "help(dict.values)"
      ]
    },
    {
      "cell_type": "markdown",
      "metadata": {},
      "source": [
        "# Section 6: User Inputs"
      ]
    },
    {
      "cell_type": "code",
      "execution_count": 13,
      "metadata": {},
      "outputs": [],
      "source": [
        "def weather_condition():\n",
        "    user_temp = float(input())\n",
        "    if user_temp > 7:\n",
        "        return \"Warm\"\n",
        "    else:\n",
        "        return \"Cold\""
      ]
    },
    {
      "cell_type": "code",
      "execution_count": 14,
      "metadata": {},
      "outputs": [
        {
          "ename": "ValueError",
          "evalue": "could not convert string to float: 'f'",
          "output_type": "error",
          "traceback": [
            "\u001b[1;31m---------------------------------------------------------------------------\u001b[0m",
            "\u001b[1;31mValueError\u001b[0m                                Traceback (most recent call last)",
            "\u001b[1;32m~\\AppData\\Local\\Temp/ipykernel_19348/3819547511.py\u001b[0m in \u001b[0;36m<module>\u001b[1;34m\u001b[0m\n\u001b[1;32m----> 1\u001b[1;33m \u001b[0mweather_condition\u001b[0m\u001b[1;33m(\u001b[0m\u001b[1;33m)\u001b[0m\u001b[1;33m\u001b[0m\u001b[1;33m\u001b[0m\u001b[0m\n\u001b[0m",
            "\u001b[1;32m~\\AppData\\Local\\Temp/ipykernel_19348/3954857537.py\u001b[0m in \u001b[0;36mweather_condition\u001b[1;34m()\u001b[0m\n\u001b[0;32m      1\u001b[0m \u001b[1;32mdef\u001b[0m \u001b[0mweather_condition\u001b[0m\u001b[1;33m(\u001b[0m\u001b[1;33m)\u001b[0m\u001b[1;33m:\u001b[0m\u001b[1;33m\u001b[0m\u001b[1;33m\u001b[0m\u001b[0m\n\u001b[1;32m----> 2\u001b[1;33m     \u001b[0muser_temp\u001b[0m \u001b[1;33m=\u001b[0m \u001b[0mfloat\u001b[0m\u001b[1;33m(\u001b[0m\u001b[0minput\u001b[0m\u001b[1;33m(\u001b[0m\u001b[1;33m)\u001b[0m\u001b[1;33m)\u001b[0m\u001b[1;33m\u001b[0m\u001b[1;33m\u001b[0m\u001b[0m\n\u001b[0m\u001b[0;32m      3\u001b[0m     \u001b[1;32mif\u001b[0m \u001b[0muser_temp\u001b[0m \u001b[1;33m>\u001b[0m \u001b[1;36m7\u001b[0m\u001b[1;33m:\u001b[0m\u001b[1;33m\u001b[0m\u001b[1;33m\u001b[0m\u001b[0m\n\u001b[0;32m      4\u001b[0m         \u001b[1;32mreturn\u001b[0m \u001b[1;34m\"Warm\"\u001b[0m\u001b[1;33m\u001b[0m\u001b[1;33m\u001b[0m\u001b[0m\n\u001b[0;32m      5\u001b[0m     \u001b[1;32melse\u001b[0m\u001b[1;33m:\u001b[0m\u001b[1;33m\u001b[0m\u001b[1;33m\u001b[0m\u001b[0m\n",
            "\u001b[1;31mValueError\u001b[0m: could not convert string to float: 'f'"
          ]
        }
      ],
      "source": [
        "weather_condition()"
      ]
    },
    {
      "cell_type": "code",
      "execution_count": 1,
      "metadata": {},
      "outputs": [
        {
          "name": "stdout",
          "output_type": "stream",
          "text": [
            "Hello Brendan\n"
          ]
        }
      ],
      "source": [
        "user_input = input(\"Enter you name: \")\n",
        "message = f\"Hello {user_input}\"\n",
        "print(message)"
      ]
    },
    {
      "cell_type": "code",
      "execution_count": 2,
      "metadata": {},
      "outputs": [
        {
          "data": {
            "text/plain": [
              "'Hello Nrenda'"
            ]
          },
          "execution_count": 2,
          "metadata": {},
          "output_type": "execute_result"
        }
      ],
      "source": [
        "def greet():\n",
        "    user_name = input(\"Enter your name: \")\n",
        "    return f\"Hello {user_name}\"\n",
        "\n",
        "greet()"
      ]
    },
    {
      "cell_type": "code",
      "execution_count": 3,
      "metadata": {},
      "outputs": [
        {
          "data": {
            "text/plain": [
              "'Hi Harry'"
            ]
          },
          "execution_count": 3,
          "metadata": {},
          "output_type": "execute_result"
        }
      ],
      "source": [
        "def greet(name):\n",
        "    return f\"Hi {name.title()}\"\n",
        "\n",
        "greet(\"harry\")"
      ]
    },
    {
      "cell_type": "markdown",
      "metadata": {},
      "source": [
        "# Setion 7: Loops"
      ]
    },
    {
      "cell_type": "code",
      "execution_count": 4,
      "metadata": {},
      "outputs": [
        {
          "name": "stdout",
          "output_type": "stream",
          "text": [
            "9\n",
            "8\n",
            "7\n"
          ]
        }
      ],
      "source": [
        "monday_temps = [9.1,8.8,7.6]\n",
        "for temps in monday_temps:\n",
        "    print(int(temps))"
      ]
    },
    {
      "cell_type": "code",
      "execution_count": 5,
      "metadata": {},
      "outputs": [
        {
          "name": "stdout",
          "output_type": "stream",
          "text": [
            "0037682929928\n",
            "00423998200919\n"
          ]
        }
      ],
      "source": [
        "# Loop over the phone_numbers values and in each loop print out the phone number, but with '00' instead of '+'. In other words, your code should output:\n",
        "phone_numbers = {\"John Smith\": \"+37682929928\", \"Marry Simpons\": \"+423998200919\"}\n",
        "\n",
        "for values in phone_numbers.values():\n",
        "    print(values.replace(\"+\", \"00\"))"
      ]
    },
    {
      "cell_type": "code",
      "execution_count": 6,
      "metadata": {},
      "outputs": [
        {
          "ename": "KeyboardInterrupt",
          "evalue": "Interrupted by user",
          "output_type": "error",
          "traceback": [
            "\u001b[1;31m---------------------------------------------------------------------------\u001b[0m",
            "\u001b[1;31mKeyboardInterrupt\u001b[0m                         Traceback (most recent call last)",
            "\u001b[1;32m~\\AppData\\Local\\Temp/ipykernel_5752/481124630.py\u001b[0m in \u001b[0;36m<module>\u001b[1;34m\u001b[0m\n\u001b[0;32m      6\u001b[0m \u001b[1;33m\u001b[0m\u001b[0m\n\u001b[0;32m      7\u001b[0m \u001b[1;32mwhile\u001b[0m \u001b[1;32mTrue\u001b[0m\u001b[1;33m:\u001b[0m\u001b[1;33m\u001b[0m\u001b[1;33m\u001b[0m\u001b[0m\n\u001b[1;32m----> 8\u001b[1;33m     \u001b[0musername\u001b[0m \u001b[1;33m=\u001b[0m \u001b[0minput\u001b[0m\u001b[1;33m(\u001b[0m\u001b[1;34m\"Enter username: \"\u001b[0m\u001b[1;33m)\u001b[0m\u001b[1;33m\u001b[0m\u001b[1;33m\u001b[0m\u001b[0m\n\u001b[0m\u001b[0;32m      9\u001b[0m     \u001b[1;32mif\u001b[0m \u001b[0musername\u001b[0m \u001b[1;33m==\u001b[0m \u001b[1;34m'pypy'\u001b[0m\u001b[1;33m:\u001b[0m\u001b[1;33m\u001b[0m\u001b[1;33m\u001b[0m\u001b[0m\n\u001b[0;32m     10\u001b[0m         \u001b[1;32mbreak\u001b[0m \u001b[1;31m#break moves the cursor out of the loop\u001b[0m\u001b[1;33m\u001b[0m\u001b[1;33m\u001b[0m\u001b[0m\n",
            "\u001b[1;32mc:\\Users\\brend\\AppData\\Local\\Programs\\Python\\Python310\\lib\\site-packages\\ipykernel\\kernelbase.py\u001b[0m in \u001b[0;36mraw_input\u001b[1;34m(self, prompt)\u001b[0m\n\u001b[0;32m   1004\u001b[0m                 \u001b[1;34m\"raw_input was called, but this frontend does not support input requests.\"\u001b[0m\u001b[1;33m\u001b[0m\u001b[1;33m\u001b[0m\u001b[0m\n\u001b[0;32m   1005\u001b[0m             )\n\u001b[1;32m-> 1006\u001b[1;33m         return self._input_request(\n\u001b[0m\u001b[0;32m   1007\u001b[0m             \u001b[0mstr\u001b[0m\u001b[1;33m(\u001b[0m\u001b[0mprompt\u001b[0m\u001b[1;33m)\u001b[0m\u001b[1;33m,\u001b[0m\u001b[1;33m\u001b[0m\u001b[1;33m\u001b[0m\u001b[0m\n\u001b[0;32m   1008\u001b[0m             \u001b[0mself\u001b[0m\u001b[1;33m.\u001b[0m\u001b[0m_parent_ident\u001b[0m\u001b[1;33m[\u001b[0m\u001b[1;34m\"shell\"\u001b[0m\u001b[1;33m]\u001b[0m\u001b[1;33m,\u001b[0m\u001b[1;33m\u001b[0m\u001b[1;33m\u001b[0m\u001b[0m\n",
            "\u001b[1;32mc:\\Users\\brend\\AppData\\Local\\Programs\\Python\\Python310\\lib\\site-packages\\ipykernel\\kernelbase.py\u001b[0m in \u001b[0;36m_input_request\u001b[1;34m(self, prompt, ident, parent, password)\u001b[0m\n\u001b[0;32m   1049\u001b[0m             \u001b[1;32mexcept\u001b[0m \u001b[0mKeyboardInterrupt\u001b[0m\u001b[1;33m:\u001b[0m\u001b[1;33m\u001b[0m\u001b[1;33m\u001b[0m\u001b[0m\n\u001b[0;32m   1050\u001b[0m                 \u001b[1;31m# re-raise KeyboardInterrupt, to truncate traceback\u001b[0m\u001b[1;33m\u001b[0m\u001b[1;33m\u001b[0m\u001b[0m\n\u001b[1;32m-> 1051\u001b[1;33m                 \u001b[1;32mraise\u001b[0m \u001b[0mKeyboardInterrupt\u001b[0m\u001b[1;33m(\u001b[0m\u001b[1;34m\"Interrupted by user\"\u001b[0m\u001b[1;33m)\u001b[0m \u001b[1;32mfrom\u001b[0m \u001b[1;32mNone\u001b[0m\u001b[1;33m\u001b[0m\u001b[1;33m\u001b[0m\u001b[0m\n\u001b[0m\u001b[0;32m   1052\u001b[0m             \u001b[1;32mexcept\u001b[0m \u001b[0mException\u001b[0m\u001b[1;33m:\u001b[0m\u001b[1;33m\u001b[0m\u001b[1;33m\u001b[0m\u001b[0m\n\u001b[0;32m   1053\u001b[0m                 \u001b[0mself\u001b[0m\u001b[1;33m.\u001b[0m\u001b[0mlog\u001b[0m\u001b[1;33m.\u001b[0m\u001b[0mwarning\u001b[0m\u001b[1;33m(\u001b[0m\u001b[1;34m\"Invalid Message:\"\u001b[0m\u001b[1;33m,\u001b[0m \u001b[0mexc_info\u001b[0m\u001b[1;33m=\u001b[0m\u001b[1;32mTrue\u001b[0m\u001b[1;33m)\u001b[0m\u001b[1;33m\u001b[0m\u001b[1;33m\u001b[0m\u001b[0m\n",
            "\u001b[1;31mKeyboardInterrupt\u001b[0m: Interrupted by user"
          ]
        }
      ],
      "source": [
        "# While loops with breaks and continue\n",
        "username = ''\n",
        "\n",
        "# while username != 'pypy':\n",
        "#     username = input(\"Enter username: \")\n",
        "\n",
        "while True:\n",
        "    username = input(\"Enter username: \")\n",
        "    if username == 'pypy':\n",
        "        break #break moves the cursor out of the loop\n",
        "    else:\n",
        "        continue #continue moves the cursor to the begining of the loop\n"
      ]
    },
    {
      "cell_type": "markdown",
      "metadata": {
        "id": "cQ1WbxJ_BOT1"
      },
      "source": [
        "# Section 8: Simple program"
      ]
    },
    {
      "cell_type": "code",
      "execution_count": 7,
      "metadata": {
        "id": "VuHRXGhk_Uzu"
      },
      "outputs": [],
      "source": [
        "def sentence_maker(phrase):\n",
        "    phrase = phrase.lower()\n",
        "    capitalized = phrase.capitalize()\n",
        "    interrogatives = (\"how\", \"what\", \"why\")\n",
        "    punctuations = (\"!\", \",\", \".\", \"?\")\n",
        "\n",
        "    while capitalized.endswith(punctuations):\n",
        "        capitalized = capitalized[:-1]\n",
        "    \n",
        "    if phrase.startswith(interrogatives):\n",
        "        return f\"{capitalized}?\"\n",
        "    else:\n",
        "        return f\"{capitalized}.\"\n",
        "\n",
        "def user_text():\n",
        "    results = []\n",
        "    output = \"\"\n",
        "\n",
        "    while True:\n",
        "        user_input = input(\"Ma se kind: \")\n",
        "        if user_input == \"\\end\":\n",
        "            break\n",
        "        else: \n",
        "            temp = sentence_maker(user_input)\n",
        "            results.append(temp)\n",
        "\n",
        "    # for i in results:\n",
        "    #     output += f\"{sentence_maker(i)} \"\n",
        "    \n",
        "    return \" \".join(results).rstrip()\n",
        "\n"
      ]
    },
    {
      "cell_type": "code",
      "execution_count": 8,
      "metadata": {
        "id": "QffR0lpi_Uzy",
        "outputId": "113cbbb1-905f-4419-f922-d44f136e43d1"
      },
      "outputs": [
        {
          "name": "stdout",
          "output_type": "stream",
          "text": [
            "Why you ma?\n",
            "How jou ma?\n",
            "What jou ma?\n",
            "Test jou ma.\n"
          ]
        }
      ],
      "source": [
        "tests = [\"why you ma?????????!!!!!!!!\", \"how jou ma\", \"what jou ma\", \"test jou ma.\"]\n",
        "\n",
        "for test in tests:\n",
        "    print(sentence_maker(test))"
      ]
    },
    {
      "cell_type": "code",
      "execution_count": 10,
      "metadata": {
        "id": "RQ8NK3as_Uz0",
        "outputId": "0c822c33-5416-4441-965d-0539e9236415"
      },
      "outputs": [
        {
          "name": "stdout",
          "output_type": "stream",
          "text": [
            "Help on method_descriptor:\n",
            "\n",
            "strip(self, chars=None, /)\n",
            "    Return a copy of the string with leading and trailing whitespace removed.\n",
            "    \n",
            "    If chars is given and not None, remove characters in chars instead.\n",
            "\n"
          ]
        }
      ],
      "source": [
        "help(str.strip)"
      ]
    },
    {
      "cell_type": "markdown",
      "metadata": {
        "id": "c-2o7jXCBY_J"
      },
      "source": [
        "# Section 9: List Comprehensions"
      ]
    },
    {
      "cell_type": "code",
      "execution_count": null,
      "metadata": {
        "colab": {
          "base_uri": "https://localhost:8080/"
        },
        "id": "x_E_xa9L_Uz0",
        "outputId": "06ffae7d-c83f-42fc-f8c2-5d0b9eabb92c"
      },
      "outputs": [
        {
          "data": {
            "text/plain": [
              "[22.1, 23.4, 34.0, 23.0]"
            ]
          },
          "execution_count": 1,
          "metadata": {},
          "output_type": "execute_result"
        }
      ],
      "source": [
        "# Simple list comprehension\n",
        "temps = [221, 234, 340, 230]\n",
        "new_temps = [temp / 10 for temp in temps]\n",
        "new_temps"
      ]
    },
    {
      "cell_type": "code",
      "execution_count": null,
      "metadata": {
        "colab": {
          "base_uri": "https://localhost:8080/"
        },
        "id": "o4LlEUGtCWZf",
        "outputId": "1d3b4710-2ce1-46e4-9d7b-069cf2f768da"
      },
      "outputs": [
        {
          "data": {
            "text/plain": [
              "[22.1, 23.4, 34.0, 23.0]"
            ]
          },
          "execution_count": 2,
          "metadata": {},
          "output_type": "execute_result"
        }
      ],
      "source": [
        "# List comprehension with if conditional\n",
        "temps = [221, 234, 340, -9999, 230]\n",
        "new_temps = [temp / 10 for temp in temps if temp != -9999]\n",
        "new_temps"
      ]
    },
    {
      "cell_type": "code",
      "execution_count": null,
      "metadata": {
        "id": "jknjZzDtCxBV"
      },
      "outputs": [],
      "source": [
        "#Define a function that takes as a parameter a list that contains both integers and strings and returns the list containing only the integers. For example, if I called your function with foo([99, 'no data', 95, 94, 'no data']) it should return [99, 95, 94].\n",
        "data = [99, 'no data', 95, 94, 'no data']\n",
        "def clean(data):\n",
        "    return [i for i in data if isinstance(i, int)]\n"
      ]
    },
    {
      "cell_type": "code",
      "execution_count": null,
      "metadata": {
        "colab": {
          "base_uri": "https://localhost:8080/"
        },
        "id": "RYHlP7xpDRkr",
        "outputId": "82d74aca-513c-47b4-b2af-74dbefa43f40"
      },
      "outputs": [
        {
          "data": {
            "text/plain": [
              "[99, 95, 94]"
            ]
          },
          "execution_count": 8,
          "metadata": {},
          "output_type": "execute_result"
        }
      ],
      "source": [
        "clean(data)"
      ]
    },
    {
      "cell_type": "code",
      "execution_count": null,
      "metadata": {
        "colab": {
          "base_uri": "https://localhost:8080/"
        },
        "id": "zGiljGTrDTst",
        "outputId": "c07c567c-ab2f-4248-fe92-f472cc280f35"
      },
      "outputs": [
        {
          "data": {
            "text/plain": [
              "[3, 101]"
            ]
          },
          "execution_count": 9,
          "metadata": {},
          "output_type": "execute_result"
        }
      ],
      "source": [
        "#Define a function that takes as parameter list of numbers and returns the list containing only the numbers that are greater than 0. For example, I called your function with foo([-5, 3, -1, 101]) it should return [3, 101].\n",
        "test = [-5, 3, -1, 101]\n",
        "def greater_0(lst):\n",
        "    return [i for i in lst if i > 0]\n",
        "\n",
        "greater_0(test)"
      ]
    },
    {
      "cell_type": "markdown",
      "metadata": {
        "id": "L1__2h_KE9d6"
      },
      "source": [
        "## List comprehension if-else conditional\n",
        "General structure is `[variable for variable in data]` <br>\n",
        "If conditional: `[variable for variable in data if condition]`<br>\n",
        "If-else conditional: `[variable if condition else condition for variable in data]`<br>"
      ]
    },
    {
      "cell_type": "code",
      "execution_count": null,
      "metadata": {
        "colab": {
          "base_uri": "https://localhost:8080/"
        },
        "id": "x1GTuoeNELVX",
        "outputId": "07fc5e6f-aec8-4a05-845f-0b04cc2c6b35"
      },
      "outputs": [
        {
          "data": {
            "text/plain": [
              "[221, 234, 340, 0, 230]"
            ]
          },
          "execution_count": 10,
          "metadata": {},
          "output_type": "execute_result"
        }
      ],
      "source": [
        "# List Comprehension If-Else Conditional\n",
        "temps = [221, 234, 340, -9999, 230]\n",
        "new_temps = [i if i != -9999 else 0 for i in temps]\n",
        "new_temps"
      ]
    },
    {
      "cell_type": "code",
      "execution_count": null,
      "metadata": {
        "colab": {
          "base_uri": "https://localhost:8080/"
        },
        "id": "K_PvDRMEFycn",
        "outputId": "c67027b9-b770-459d-f902-a1050af8e4f3"
      },
      "outputs": [
        {
          "data": {
            "text/plain": [
              "[99, 0, 95, 94, 0]"
            ]
          },
          "execution_count": 11,
          "metadata": {},
          "output_type": "execute_result"
        }
      ],
      "source": [
        "# Define a function that takes as parameter a list that contains both numbers and strings and returns the same list but with zeros instead of strings. For example, I called your function with foo([99, 'no data', 95, 94, 'no data']) it should return [99, 0, 95, 94, 0].\n",
        "test = [99, 'no data', 95, 94, 'no data']\n",
        "def str_int(data):\n",
        "    return [i if isinstance(i, int) else 0 for i in data]\n",
        "\n",
        "str_int(test)"
      ]
    },
    {
      "cell_type": "code",
      "execution_count": null,
      "metadata": {
        "colab": {
          "base_uri": "https://localhost:8080/"
        },
        "id": "WjTABpCdGSW1",
        "outputId": "a9c78e47-a6b5-4f29-c45f-54b93c28579e"
      },
      "outputs": [
        {
          "data": {
            "text/plain": [
              "7.1"
            ]
          },
          "execution_count": 12,
          "metadata": {},
          "output_type": "execute_result"
        }
      ],
      "source": [
        "# Define a function that takes as parameter a list that contains decimal numbers as strings and returns the sum of those numbers\n",
        "test = ['1.2', '2.6', '3.3']\n",
        "def convert_sum(lst):\n",
        "    return sum([float(i) for i in lst])\n",
        "\n",
        "convert_sum(test)"
      ]
    },
    {
      "cell_type": "markdown",
      "metadata": {
        "id": "mlIjF1R2L058"
      },
      "source": [
        "# Section 10: More Functions"
      ]
    },
    {
      "cell_type": "code",
      "execution_count": null,
      "metadata": {
        "colab": {
          "base_uri": "https://localhost:8080/"
        },
        "id": "cZ8xmSMzG7a9",
        "outputId": "ada4aa30-8b8a-4fb7-ec8a-99ecf166ab2a"
      },
      "outputs": [
        {
          "name": "stdout",
          "output_type": "stream",
          "text": [
            "12\n",
            "jouma\n"
          ]
        }
      ],
      "source": [
        "# Implements a function that takes two strings as parameters, concatenates them, and returns the result.\n",
        "def concat(a, b):\n",
        "    return str(a) + str(b)\n",
        "\n",
        "tests = [(1, 2), (\"jou\", \"ma\")]\n",
        "for a, b in tests:\n",
        "    print(concat(a, b))\n"
      ]
    },
    {
      "cell_type": "markdown",
      "metadata": {
        "id": "TeNQwkXhN7sS"
      },
      "source": [
        "Creating functions with n-lengths non-keyword arguments. Use *args as the parameter"
      ]
    },
    {
      "cell_type": "code",
      "execution_count": null,
      "metadata": {
        "colab": {
          "base_uri": "https://localhost:8080/"
        },
        "id": "oqmbmgDiMr0B",
        "outputId": "4f7a1819-b52e-45af-a619-9e74b6c32f79"
      },
      "outputs": [
        {
          "data": {
            "text/plain": [
              "(4, 3, 'a', 'hoe')"
            ]
          },
          "execution_count": 18,
          "metadata": {},
          "output_type": "execute_result"
        }
      ],
      "source": [
        "# args are returned as a tuple\n",
        "def mean(*args):\n",
        "    return args\n",
        "\n",
        "mean(4, 3, \"a\", \"hoe\")"
      ]
    },
    {
      "cell_type": "code",
      "execution_count": null,
      "metadata": {
        "colab": {
          "base_uri": "https://localhost:8080/"
        },
        "id": "m0GE7SfqOTpy",
        "outputId": "e2ca1481-9521-4e7c-a715-92822d158d6b"
      },
      "outputs": [
        {
          "data": {
            "text/plain": [
              "3.4181818181818184"
            ]
          },
          "execution_count": 19,
          "metadata": {},
          "output_type": "execute_result"
        }
      ],
      "source": [
        "def mean(*args):\n",
        "    return sum(args) / len(args)\n",
        "\n",
        "mean(5, 4, 3, 2, 1, 5,6,3,2, 1, 5.6)"
      ]
    },
    {
      "cell_type": "code",
      "execution_count": null,
      "metadata": {
        "colab": {
          "base_uri": "https://localhost:8080/"
        },
        "id": "0EwBqVKWQv63",
        "outputId": "b3740950-2704-42c6-bdb7-70c184019e07"
      },
      "outputs": [
        {
          "data": {
            "text/plain": [
              "['K', 'Y', 'Z']"
            ]
          },
          "execution_count": 20,
          "metadata": {},
          "output_type": "execute_result"
        }
      ],
      "source": [
        "#Define a function that takes an indefinite number of strings as parameters and returns a list containing all the strings in UPPERCASE and sorted alphabetically.\n",
        "def upper_sort(*args):\n",
        "    return sorted([string.upper() for string in args])\n",
        "\n",
        "upper_sort(\"k\", \"z\", \"y\")"
      ]
    },
    {
      "cell_type": "markdown",
      "metadata": {
        "id": "hj8Oz5AOR04O"
      },
      "source": [
        "Creating a function with indefinite key word arguments. Use **kwargs."
      ]
    },
    {
      "cell_type": "code",
      "execution_count": null,
      "metadata": {
        "colab": {
          "base_uri": "https://localhost:8080/"
        },
        "id": "eEkAYNfIROh7",
        "outputId": "af45c60a-e7b4-4711-acd8-ece5620f3211"
      },
      "outputs": [
        {
          "data": {
            "text/plain": [
              "{'a': 1, 'b': 2, 'c': 3}"
            ]
          },
          "execution_count": 22,
          "metadata": {},
          "output_type": "execute_result"
        }
      ],
      "source": [
        "def mean(**kwargs):\n",
        "    return kwargs\n",
        "\n",
        "# mean(1, 2, 3) # will return error\n",
        "mean(a=1, b=2, c=3) # returns a dict"
      ]
    },
    {
      "cell_type": "markdown",
      "metadata": {
        "id": "mF6c9QvbSX5k"
      },
      "source": [
        "## Cheatsheet: More on Functions\n",
        "In this section, you learned that:\n",
        "\n",
        "Functions can have more than one parameter:\n",
        "\n",
        "```\n",
        "def volume(a, b, c):\n",
        "    return a * b * c\n",
        "```\n",
        "Functions can have default parameters (e.g. coefficient):\n",
        "\n",
        "```\n",
        "def converter(feet, coefficient = 3.2808):\n",
        "    meters = feet / coefficient\n",
        "    return meters\n",
        " \n",
        "print(converter(10))\n",
        "Output: 3.0480370641306997\n",
        "```\n",
        "\n",
        "Arguments can be passed as non-keyword (positional) arguments (e.g. a) or keyword arguments (e.g. b=2 and c=10):\n",
        "\n",
        "```\n",
        "def volume(a, b, c):\n",
        "    return a * b * c\n",
        " \n",
        "print(volume(1, b=2, c=10))\n",
        "```\n",
        "An *args parameter allows the  function to be called with an arbitrary number of non-keyword arguments:\n",
        "\n",
        "```\n",
        "def find_max(*args):\n",
        "    return max(args)\n",
        "print(find_max(3, 99, 1001, 2, 8))\n",
        "Output: 1001\n",
        "```\n",
        "\n",
        "A **kwargs parameter allows the function to be called with an arbitrary number of keyword arguments:\n",
        "\n",
        "```\n",
        "def find_winner(**kwargs):\n",
        "    return max(kwargs, key = kwargs.get)\n",
        " \n",
        "print(find_winner(Andy = 17, Marry = 19, Sim = 45, Kae = 34))\n",
        "Output: Sim\n",
        "```\n",
        "\n",
        "Here's a summary of function elements:\n",
        "![](https://img-c.udemycdn.com/redactor/raw/2019-07-24_19-07-36-0d306e1785ef65d50aeb204567dfb62f.png)\n"
      ]
    },
    {
      "cell_type": "markdown",
      "metadata": {},
      "source": [
        "# Section 11: File Processing\n",
        "Cursor concept, when you open a file a cursor object is created at the beginning of the file. When you use the file.read() method, the cursor is moved to the end of the file.<br>\n",
        "To re-use the file object, store the opening of the file in a variable and call and recall the variable. This way the cursor does not affect the code."
      ]
    },
    {
      "cell_type": "code",
      "execution_count": null,
      "metadata": {
        "id": "105ODWf8SClM"
      },
      "outputs": [],
      "source": [
        "my_file = open(\"./files/fruits.txt\")\n",
        "my_file.read()\n",
        "my_file.read() # the cursor is at teh end of the file therefore an empty string is printed\n",
        "my_file.close()"
      ]
    },
    {
      "cell_type": "code",
      "execution_count": null,
      "metadata": {},
      "outputs": [
        {
          "name": "stdout",
          "output_type": "stream",
          "text": [
            "pear\n",
            "apple\n",
            "orange\n",
            "mandarin\n",
            "watermelon\n",
            "pomegranate\n",
            "\n",
            "pear\n",
            "apple\n",
            "orange\n",
            "mandarin\n",
            "watermelon\n",
            "pomegranate\n",
            "\n"
          ]
        }
      ],
      "source": [
        "my_file = open(\"./files/fruits.txt\")\n",
        "content = my_file.read()\n",
        "print(content)\n",
        "print(content)\n",
        "my_file.close()"
      ]
    },
    {
      "cell_type": "markdown",
      "metadata": {},
      "source": [
        "We need to close the file otherwise it remains open in RAM. A better way to handle the opening and closing of files is with the `with` keyword. The `with` context manager will close the file implicitly"
      ]
    },
    {
      "cell_type": "code",
      "execution_count": null,
      "metadata": {},
      "outputs": [
        {
          "name": "stdout",
          "output_type": "stream",
          "text": [
            "pear\n",
            "apple\n",
            "orange\n",
            "mandarin\n",
            "watermelon\n",
            "pomegranate\n",
            "\n"
          ]
        }
      ],
      "source": [
        "with open(\"./files/fruits.txt\") as my_file:\n",
        "    content = my_file.read()\n",
        "\n",
        "print(content)"
      ]
    },
    {
      "cell_type": "code",
      "execution_count": null,
      "metadata": {},
      "outputs": [
        {
          "name": "stdout",
          "output_type": "stream",
          "text": [
            "Help on built-in function open in module io:\n",
            "\n",
            "open(file, mode='r', buffering=-1, encoding=None, errors=None, newline=None, closefd=True, opener=None)\n",
            "    Open file and return a stream.  Raise OSError upon failure.\n",
            "    \n",
            "    file is either a text or byte string giving the name (and the path\n",
            "    if the file isn't in the current working directory) of the file to\n",
            "    be opened or an integer file descriptor of the file to be\n",
            "    wrapped. (If a file descriptor is given, it is closed when the\n",
            "    returned I/O object is closed, unless closefd is set to False.)\n",
            "    \n",
            "    mode is an optional string that specifies the mode in which the file\n",
            "    is opened. It defaults to 'r' which means open for reading in text\n",
            "    mode.  Other common values are 'w' for writing (truncating the file if\n",
            "    it already exists), 'x' for creating and writing to a new file, and\n",
            "    'a' for appending (which on some Unix systems, means that all writes\n",
            "    append to the end of the file regardless of the current seek position).\n",
            "    In text mode, if encoding is not specified the encoding used is platform\n",
            "    dependent: locale.getpreferredencoding(False) is called to get the\n",
            "    current locale encoding. (For reading and writing raw bytes use binary\n",
            "    mode and leave encoding unspecified.) The available modes are:\n",
            "    \n",
            "    ========= ===============================================================\n",
            "    Character Meaning\n",
            "    --------- ---------------------------------------------------------------\n",
            "    'r'       open for reading (default)\n",
            "    'w'       open for writing, truncating the file first\n",
            "    'x'       create a new file and open it for writing\n",
            "    'a'       open for writing, appending to the end of the file if it exists\n",
            "    'b'       binary mode\n",
            "    't'       text mode (default)\n",
            "    '+'       open a disk file for updating (reading and writing)\n",
            "    'U'       universal newline mode (deprecated)\n",
            "    ========= ===============================================================\n",
            "    \n",
            "    The default mode is 'rt' (open for reading text). For binary random\n",
            "    access, the mode 'w+b' opens and truncates the file to 0 bytes, while\n",
            "    'r+b' opens the file without truncation. The 'x' mode implies 'w' and\n",
            "    raises an `FileExistsError` if the file already exists.\n",
            "    \n",
            "    Python distinguishes between files opened in binary and text modes,\n",
            "    even when the underlying operating system doesn't. Files opened in\n",
            "    binary mode (appending 'b' to the mode argument) return contents as\n",
            "    bytes objects without any decoding. In text mode (the default, or when\n",
            "    't' is appended to the mode argument), the contents of the file are\n",
            "    returned as strings, the bytes having been first decoded using a\n",
            "    platform-dependent encoding or using the specified encoding if given.\n",
            "    \n",
            "    'U' mode is deprecated and will raise an exception in future versions\n",
            "    of Python.  It has no effect in Python 3.  Use newline to control\n",
            "    universal newlines mode.\n",
            "    \n",
            "    buffering is an optional integer used to set the buffering policy.\n",
            "    Pass 0 to switch buffering off (only allowed in binary mode), 1 to select\n",
            "    line buffering (only usable in text mode), and an integer > 1 to indicate\n",
            "    the size of a fixed-size chunk buffer.  When no buffering argument is\n",
            "    given, the default buffering policy works as follows:\n",
            "    \n",
            "    * Binary files are buffered in fixed-size chunks; the size of the buffer\n",
            "      is chosen using a heuristic trying to determine the underlying device's\n",
            "      \"block size\" and falling back on `io.DEFAULT_BUFFER_SIZE`.\n",
            "      On many systems, the buffer will typically be 4096 or 8192 bytes long.\n",
            "    \n",
            "    * \"Interactive\" text files (files for which isatty() returns True)\n",
            "      use line buffering.  Other text files use the policy described above\n",
            "      for binary files.\n",
            "    \n",
            "    encoding is the name of the encoding used to decode or encode the\n",
            "    file. This should only be used in text mode. The default encoding is\n",
            "    platform dependent, but any encoding supported by Python can be\n",
            "    passed.  See the codecs module for the list of supported encodings.\n",
            "    \n",
            "    errors is an optional string that specifies how encoding errors are to\n",
            "    be handled---this argument should not be used in binary mode. Pass\n",
            "    'strict' to raise a ValueError exception if there is an encoding error\n",
            "    (the default of None has the same effect), or pass 'ignore' to ignore\n",
            "    errors. (Note that ignoring encoding errors can lead to data loss.)\n",
            "    See the documentation for codecs.register or run 'help(codecs.Codec)'\n",
            "    for a list of the permitted encoding error strings.\n",
            "    \n",
            "    newline controls how universal newlines works (it only applies to text\n",
            "    mode). It can be None, '', '\\n', '\\r', and '\\r\\n'.  It works as\n",
            "    follows:\n",
            "    \n",
            "    * On input, if newline is None, universal newlines mode is\n",
            "      enabled. Lines in the input can end in '\\n', '\\r', or '\\r\\n', and\n",
            "      these are translated into '\\n' before being returned to the\n",
            "      caller. If it is '', universal newline mode is enabled, but line\n",
            "      endings are returned to the caller untranslated. If it has any of\n",
            "      the other legal values, input lines are only terminated by the given\n",
            "      string, and the line ending is returned to the caller untranslated.\n",
            "    \n",
            "    * On output, if newline is None, any '\\n' characters written are\n",
            "      translated to the system default line separator, os.linesep. If\n",
            "      newline is '' or '\\n', no translation takes place. If newline is any\n",
            "      of the other legal values, any '\\n' characters written are translated\n",
            "      to the given string.\n",
            "    \n",
            "    If closefd is False, the underlying file descriptor will be kept open\n",
            "    when the file is closed. This does not work when a file name is given\n",
            "    and must be True in that case.\n",
            "    \n",
            "    A custom opener can be used by passing a callable as *opener*. The\n",
            "    underlying file descriptor for the file object is then obtained by\n",
            "    calling *opener* with (*file*, *flags*). *opener* must return an open\n",
            "    file descriptor (passing os.open as *opener* results in functionality\n",
            "    similar to passing None).\n",
            "    \n",
            "    open() returns a file object whose type depends on the mode, and\n",
            "    through which the standard file operations such as reading and writing\n",
            "    are performed. When open() is used to open a file in a text mode ('w',\n",
            "    'r', 'wt', 'rt', etc.), it returns a TextIOWrapper. When used to open\n",
            "    a file in a binary mode, the returned class varies: in read binary\n",
            "    mode, it returns a BufferedReader; in write binary and append binary\n",
            "    modes, it returns a BufferedWriter, and in read/write mode, it returns\n",
            "    a BufferedRandom.\n",
            "    \n",
            "    It is also possible to use a string or bytearray as a file for both\n",
            "    reading and writing. For strings StringIO can be used like a file\n",
            "    opened in a text mode, and for bytes a BytesIO can be used like a file\n",
            "    opened in a binary mode.\n",
            "\n"
          ]
        }
      ],
      "source": [
        "help(open)"
      ]
    },
    {
      "cell_type": "code",
      "execution_count": null,
      "metadata": {},
      "outputs": [
        {
          "name": "stdout",
          "output_type": "stream",
          "text": [
            "6\n"
          ]
        }
      ],
      "source": [
        "# The \"w\" argument is used to write to a file, file contents will be overwritten\n",
        "with open(\"./files/vegetables.txt\", \"w\") as my_file:\n",
        "    my_file.write(\"Tomato\\nCucumber\\nOnion\\n\")\n",
        "    my_file.write(\"Garlic\\n\")\n",
        "\n",
        "print(content)"
      ]
    },
    {
      "cell_type": "code",
      "execution_count": null,
      "metadata": {},
      "outputs": [
        {
          "name": "stdout",
          "output_type": "stream",
          "text": [
            "The American black bear (Ursus americanus) is a medium-sized bear native to North America. \n"
          ]
        }
      ],
      "source": [
        "# Read the bear.txt file, and print out the first 90 characters of its content.\n",
        "with open(\"./files/bear.txt\", \"r\") as bear_file:\n",
        "    context = bear_file.read()\n",
        "\n",
        "print(context[:91])"
      ]
    },
    {
      "cell_type": "code",
      "execution_count": null,
      "metadata": {},
      "outputs": [
        {
          "name": "stdout",
          "output_type": "stream",
          "text": [
            "56\n"
          ]
        }
      ],
      "source": [
        "# Define a function that gets a single string character and a filepath as parameters and returns the number of occurences of that character in the file.\n",
        "\n",
        "def open_count_chars(char, filepath):\n",
        "    with open(filepath) as read_file:\n",
        "        data = read_file.read()\n",
        "    \n",
        "    return data.count(char)\n",
        "\n",
        "print(open_count_chars(\"e\", \"./files/bear.txt\"))\n"
      ]
    },
    {
      "cell_type": "code",
      "execution_count": null,
      "metadata": {},
      "outputs": [],
      "source": [
        "# Use Python to create a file with name file.txt and write the text snail there.\n",
        "\n",
        "with open(\"./files/file.txt\", \"w\") as open_file:\n",
        "    open_file.write(\"snail\")"
      ]
    },
    {
      "cell_type": "code",
      "execution_count": null,
      "metadata": {},
      "outputs": [],
      "source": [
        "# Create a first.txt file that contains the first 90 characters of bear.txt.\n",
        "# Note that you should read the content of bear.txt with Python, extract its first 90 characters with Python, and write those characters in first.txt with Python.\n",
        "\n",
        "with open(\"./files/bear.txt\", \"r\") as open_file:\n",
        "    data = open_file.read()\n",
        "\n",
        "with open(\"./files/file.txt\", \"w\") as open_file:\n",
        "    open_file.write(data[:91])"
      ]
    },
    {
      "cell_type": "markdown",
      "metadata": {},
      "source": [
        "Appending to files is done with the `a` keyword argument."
      ]
    },
    {
      "cell_type": "code",
      "execution_count": null,
      "metadata": {},
      "outputs": [],
      "source": [
        "with open(\"./files/vegetables.txt\", \"a\") as open_file:\n",
        "    open_file.write(\"\\nOkra\")"
      ]
    },
    {
      "cell_type": "markdown",
      "metadata": {},
      "source": [
        "With the `+` argument we can append and then read the file."
      ]
    },
    {
      "cell_type": "code",
      "execution_count": null,
      "metadata": {},
      "outputs": [
        {
          "name": "stdout",
          "output_type": "stream",
          "text": [
            "Tomato\n",
            "Cucumber\n",
            "Onion\n",
            "Garlic\n",
            "Okra\n",
            "\n",
            "Eggplant\n"
          ]
        }
      ],
      "source": [
        "with open(\"./files/vegetables.txt\", \"a+\") as open_file:\n",
        "    open_file.write(\"\\nEggplant\")\n",
        "    open_file.seek(0)\n",
        "    content = open_file.read()\n",
        "\n",
        "print(content)# nothing is printed as the cursor is at the end of the file, apply the seek method to move the cursor to the beginnng of the file"
      ]
    },
    {
      "cell_type": "code",
      "execution_count": null,
      "metadata": {},
      "outputs": [],
      "source": [
        "# Append the text of bear1.txt to bear2.txt. In other words, bear2.txt should contain its text and the text of bear1.txt after that.\n",
        "with open(\"./files/bear1.txt\", \"r\") as open_file:\n",
        "    data = open_file.read()\n",
        "\n",
        "with open(\"./files/bear2.txt\", \"a\") as open_file:\n",
        "    open_file.write(data)\n",
        "\n",
        "\n"
      ]
    },
    {
      "cell_type": "code",
      "execution_count": null,
      "metadata": {},
      "outputs": [
        {
          "name": "stdout",
          "output_type": "stream",
          "text": [
            "1.3,1.5\n",
            "2.3, 2.7                                                                                                                                                                                                                                                                                                                                                                                                                                                                                                                                                                                                                                                                                                                                                                                                                                                                                                                                                                                                                                                                                                                                                                                                                                                                                                                                    1.3,1.5\n",
            "2.3, 2.7                                                                                                                                                                                                                                                                                                                                                                                                                                                                                                                                                                                                                                                                                                                                                                                                                                                                                                                                                                                                                                                                                                                                                                                                                                                                                                                                    1.3,1.5\n",
            "2.3, 2.7                                                                                                                                                                                                                                                                                                                                                                                                                                                                                                                                                                                                                                                                                                                                                                                                                                                                                                                                                                                                                                                                                                                                                                                                                                                                                                                                    \n"
          ]
        }
      ],
      "source": [
        "#Copy n-times (E)\n",
        "with open(\"./files/data.txt\", \"r+\") as open_file:\n",
        "    data = open_file.read()\n",
        "    for i in range(2):\n",
        "        open_file.write(data)\n",
        "\n",
        "with open(\"./files/data.txt\", \"r\") as open_file:\n",
        "    data = open_file.read()\n",
        "    \n",
        "print(data)\n"
      ]
    },
    {
      "cell_type": "code",
      "execution_count": null,
      "metadata": {},
      "outputs": [
        {
          "name": "stdout",
          "output_type": "stream",
          "text": [
            "Help on built-in function open in module io:\n",
            "\n",
            "open(file, mode='r', buffering=-1, encoding=None, errors=None, newline=None, closefd=True, opener=None)\n",
            "    Open file and return a stream.  Raise OSError upon failure.\n",
            "    \n",
            "    file is either a text or byte string giving the name (and the path\n",
            "    if the file isn't in the current working directory) of the file to\n",
            "    be opened or an integer file descriptor of the file to be\n",
            "    wrapped. (If a file descriptor is given, it is closed when the\n",
            "    returned I/O object is closed, unless closefd is set to False.)\n",
            "    \n",
            "    mode is an optional string that specifies the mode in which the file\n",
            "    is opened. It defaults to 'r' which means open for reading in text\n",
            "    mode.  Other common values are 'w' for writing (truncating the file if\n",
            "    it already exists), 'x' for creating and writing to a new file, and\n",
            "    'a' for appending (which on some Unix systems, means that all writes\n",
            "    append to the end of the file regardless of the current seek position).\n",
            "    In text mode, if encoding is not specified the encoding used is platform\n",
            "    dependent: locale.getpreferredencoding(False) is called to get the\n",
            "    current locale encoding. (For reading and writing raw bytes use binary\n",
            "    mode and leave encoding unspecified.) The available modes are:\n",
            "    \n",
            "    ========= ===============================================================\n",
            "    Character Meaning\n",
            "    --------- ---------------------------------------------------------------\n",
            "    'r'       open for reading (default)\n",
            "    'w'       open for writing, truncating the file first\n",
            "    'x'       create a new file and open it for writing\n",
            "    'a'       open for writing, appending to the end of the file if it exists\n",
            "    'b'       binary mode\n",
            "    't'       text mode (default)\n",
            "    '+'       open a disk file for updating (reading and writing)\n",
            "    'U'       universal newline mode (deprecated)\n",
            "    ========= ===============================================================\n",
            "    \n",
            "    The default mode is 'rt' (open for reading text). For binary random\n",
            "    access, the mode 'w+b' opens and truncates the file to 0 bytes, while\n",
            "    'r+b' opens the file without truncation. The 'x' mode implies 'w' and\n",
            "    raises an `FileExistsError` if the file already exists.\n",
            "    \n",
            "    Python distinguishes between files opened in binary and text modes,\n",
            "    even when the underlying operating system doesn't. Files opened in\n",
            "    binary mode (appending 'b' to the mode argument) return contents as\n",
            "    bytes objects without any decoding. In text mode (the default, or when\n",
            "    't' is appended to the mode argument), the contents of the file are\n",
            "    returned as strings, the bytes having been first decoded using a\n",
            "    platform-dependent encoding or using the specified encoding if given.\n",
            "    \n",
            "    'U' mode is deprecated and will raise an exception in future versions\n",
            "    of Python.  It has no effect in Python 3.  Use newline to control\n",
            "    universal newlines mode.\n",
            "    \n",
            "    buffering is an optional integer used to set the buffering policy.\n",
            "    Pass 0 to switch buffering off (only allowed in binary mode), 1 to select\n",
            "    line buffering (only usable in text mode), and an integer > 1 to indicate\n",
            "    the size of a fixed-size chunk buffer.  When no buffering argument is\n",
            "    given, the default buffering policy works as follows:\n",
            "    \n",
            "    * Binary files are buffered in fixed-size chunks; the size of the buffer\n",
            "      is chosen using a heuristic trying to determine the underlying device's\n",
            "      \"block size\" and falling back on `io.DEFAULT_BUFFER_SIZE`.\n",
            "      On many systems, the buffer will typically be 4096 or 8192 bytes long.\n",
            "    \n",
            "    * \"Interactive\" text files (files for which isatty() returns True)\n",
            "      use line buffering.  Other text files use the policy described above\n",
            "      for binary files.\n",
            "    \n",
            "    encoding is the name of the encoding used to decode or encode the\n",
            "    file. This should only be used in text mode. The default encoding is\n",
            "    platform dependent, but any encoding supported by Python can be\n",
            "    passed.  See the codecs module for the list of supported encodings.\n",
            "    \n",
            "    errors is an optional string that specifies how encoding errors are to\n",
            "    be handled---this argument should not be used in binary mode. Pass\n",
            "    'strict' to raise a ValueError exception if there is an encoding error\n",
            "    (the default of None has the same effect), or pass 'ignore' to ignore\n",
            "    errors. (Note that ignoring encoding errors can lead to data loss.)\n",
            "    See the documentation for codecs.register or run 'help(codecs.Codec)'\n",
            "    for a list of the permitted encoding error strings.\n",
            "    \n",
            "    newline controls how universal newlines works (it only applies to text\n",
            "    mode). It can be None, '', '\\n', '\\r', and '\\r\\n'.  It works as\n",
            "    follows:\n",
            "    \n",
            "    * On input, if newline is None, universal newlines mode is\n",
            "      enabled. Lines in the input can end in '\\n', '\\r', or '\\r\\n', and\n",
            "      these are translated into '\\n' before being returned to the\n",
            "      caller. If it is '', universal newline mode is enabled, but line\n",
            "      endings are returned to the caller untranslated. If it has any of\n",
            "      the other legal values, input lines are only terminated by the given\n",
            "      string, and the line ending is returned to the caller untranslated.\n",
            "    \n",
            "    * On output, if newline is None, any '\\n' characters written are\n",
            "      translated to the system default line separator, os.linesep. If\n",
            "      newline is '' or '\\n', no translation takes place. If newline is any\n",
            "      of the other legal values, any '\\n' characters written are translated\n",
            "      to the given string.\n",
            "    \n",
            "    If closefd is False, the underlying file descriptor will be kept open\n",
            "    when the file is closed. This does not work when a file name is given\n",
            "    and must be True in that case.\n",
            "    \n",
            "    A custom opener can be used by passing a callable as *opener*. The\n",
            "    underlying file descriptor for the file object is then obtained by\n",
            "    calling *opener* with (*file*, *flags*). *opener* must return an open\n",
            "    file descriptor (passing os.open as *opener* results in functionality\n",
            "    similar to passing None).\n",
            "    \n",
            "    open() returns a file object whose type depends on the mode, and\n",
            "    through which the standard file operations such as reading and writing\n",
            "    are performed. When open() is used to open a file in a text mode ('w',\n",
            "    'r', 'wt', 'rt', etc.), it returns a TextIOWrapper. When used to open\n",
            "    a file in a binary mode, the returned class varies: in read binary\n",
            "    mode, it returns a BufferedReader; in write binary and append binary\n",
            "    modes, it returns a BufferedWriter, and in read/write mode, it returns\n",
            "    a BufferedRandom.\n",
            "    \n",
            "    It is also possible to use a string or bytearray as a file for both\n",
            "    reading and writing. For strings StringIO can be used like a file\n",
            "    opened in a text mode, and for bytes a BytesIO can be used like a file\n",
            "    opened in a binary mode.\n",
            "\n"
          ]
        }
      ],
      "source": [
        "help(open)"
      ]
    },
    {
      "cell_type": "markdown",
      "metadata": {},
      "source": [
        "# Section 12: Modules"
      ]
    },
    {
      "cell_type": "code",
      "execution_count": 9,
      "metadata": {},
      "outputs": [
        {
          "name": "stdout",
          "output_type": "stream",
          "text": [
            "22.125\n"
          ]
        }
      ],
      "source": [
        "import time\n",
        "import pandas as pd\n",
        "\n",
        "for i in range(1):\n",
        "    if os.path.exists(\"files/temps_today.csv\"):\n",
        "        data = pd.read_csv(\"files/temps_today.csv\")\n",
        "        print(data.mean()[\"st1\"])\n",
        "    else:\n",
        "        print(\"File not found\")\n",
        "        \n",
        "\n",
        "\n"
      ]
    },
    {
      "cell_type": "markdown",
      "metadata": {},
      "source": [
        "# Section 13: Pandas"
      ]
    },
    {
      "cell_type": "code",
      "execution_count": 13,
      "metadata": {},
      "outputs": [
        {
          "data": {
            "text/plain": [
              "['supermarkets-commas.txt',\n",
              " 'supermarkets-semi-colons.txt',\n",
              " 'supermarkets.csv',\n",
              " 'supermarkets.json',\n",
              " 'supermarkets.xlsx']"
            ]
          },
          "execution_count": 13,
          "metadata": {},
          "output_type": "execute_result"
        }
      ],
      "source": [
        "os.listdir(\"files/supermarkets/\") # use os.listdir to view files in directory"
      ]
    },
    {
      "cell_type": "code",
      "execution_count": 16,
      "metadata": {},
      "outputs": [],
      "source": [
        "df1 = pd.read_csv(\"files/supermarkets/supermarkets.csv\")\n",
        "df2 = pd.read_json(\"files/supermarkets/supermarkets.json\")"
      ]
    },
    {
      "cell_type": "code",
      "execution_count": 18,
      "metadata": {},
      "outputs": [
        {
          "data": {
            "text/html": [
              "<div>\n",
              "<style scoped>\n",
              "    .dataframe tbody tr th:only-of-type {\n",
              "        vertical-align: middle;\n",
              "    }\n",
              "\n",
              "    .dataframe tbody tr th {\n",
              "        vertical-align: top;\n",
              "    }\n",
              "\n",
              "    .dataframe thead th {\n",
              "        text-align: right;\n",
              "    }\n",
              "</style>\n",
              "<table border=\"1\" class=\"dataframe\">\n",
              "  <thead>\n",
              "    <tr style=\"text-align: right;\">\n",
              "      <th></th>\n",
              "      <th>ID</th>\n",
              "      <th>Address</th>\n",
              "      <th>City</th>\n",
              "      <th>State</th>\n",
              "      <th>Country</th>\n",
              "      <th>Supermarket Name</th>\n",
              "      <th>Number of Employees</th>\n",
              "    </tr>\n",
              "  </thead>\n",
              "  <tbody>\n",
              "    <tr>\n",
              "      <th>0</th>\n",
              "      <td>1</td>\n",
              "      <td>3666 21st St</td>\n",
              "      <td>San Francisco</td>\n",
              "      <td>CA 94114</td>\n",
              "      <td>USA</td>\n",
              "      <td>Madeira</td>\n",
              "      <td>8</td>\n",
              "    </tr>\n",
              "    <tr>\n",
              "      <th>1</th>\n",
              "      <td>2</td>\n",
              "      <td>735 Dolores St</td>\n",
              "      <td>San Francisco</td>\n",
              "      <td>CA 94119</td>\n",
              "      <td>USA</td>\n",
              "      <td>Bready Shop</td>\n",
              "      <td>15</td>\n",
              "    </tr>\n",
              "    <tr>\n",
              "      <th>2</th>\n",
              "      <td>3</td>\n",
              "      <td>332 Hill St</td>\n",
              "      <td>San Francisco</td>\n",
              "      <td>California 94114</td>\n",
              "      <td>USA</td>\n",
              "      <td>Super River</td>\n",
              "      <td>25</td>\n",
              "    </tr>\n",
              "    <tr>\n",
              "      <th>3</th>\n",
              "      <td>4</td>\n",
              "      <td>3995 23rd St</td>\n",
              "      <td>San Francisco</td>\n",
              "      <td>CA 94114</td>\n",
              "      <td>USA</td>\n",
              "      <td>Ben's Shop</td>\n",
              "      <td>10</td>\n",
              "    </tr>\n",
              "    <tr>\n",
              "      <th>4</th>\n",
              "      <td>5</td>\n",
              "      <td>1056 Sanchez St</td>\n",
              "      <td>San Francisco</td>\n",
              "      <td>California</td>\n",
              "      <td>USA</td>\n",
              "      <td>Sanchez</td>\n",
              "      <td>12</td>\n",
              "    </tr>\n",
              "    <tr>\n",
              "      <th>5</th>\n",
              "      <td>6</td>\n",
              "      <td>551 Alvarado St</td>\n",
              "      <td>San Francisco</td>\n",
              "      <td>CA 94114</td>\n",
              "      <td>USA</td>\n",
              "      <td>Richvalley</td>\n",
              "      <td>20</td>\n",
              "    </tr>\n",
              "  </tbody>\n",
              "</table>\n",
              "</div>"
            ],
            "text/plain": [
              "   ID          Address           City             State Country  \\\n",
              "0   1     3666 21st St  San Francisco          CA 94114     USA   \n",
              "1   2   735 Dolores St  San Francisco          CA 94119     USA   \n",
              "2   3      332 Hill St  San Francisco  California 94114     USA   \n",
              "3   4     3995 23rd St  San Francisco          CA 94114     USA   \n",
              "4   5  1056 Sanchez St  San Francisco        California     USA   \n",
              "5   6  551 Alvarado St  San Francisco          CA 94114     USA   \n",
              "\n",
              "  Supermarket Name  Number of Employees  \n",
              "0          Madeira                    8  \n",
              "1      Bready Shop                   15  \n",
              "2      Super River                   25  \n",
              "3       Ben's Shop                   10  \n",
              "4          Sanchez                   12  \n",
              "5       Richvalley                   20  "
            ]
          },
          "execution_count": 18,
          "metadata": {},
          "output_type": "execute_result"
        }
      ],
      "source": [
        "df3 = pd.read_excel(\"files/supermarkets/supermarkets.xlsx\", sheet_name= 0)\n",
        "df3"
      ]
    },
    {
      "cell_type": "code",
      "execution_count": 20,
      "metadata": {},
      "outputs": [
        {
          "data": {
            "text/html": [
              "<div>\n",
              "<style scoped>\n",
              "    .dataframe tbody tr th:only-of-type {\n",
              "        vertical-align: middle;\n",
              "    }\n",
              "\n",
              "    .dataframe tbody tr th {\n",
              "        vertical-align: top;\n",
              "    }\n",
              "\n",
              "    .dataframe thead th {\n",
              "        text-align: right;\n",
              "    }\n",
              "</style>\n",
              "<table border=\"1\" class=\"dataframe\">\n",
              "  <thead>\n",
              "    <tr style=\"text-align: right;\">\n",
              "      <th></th>\n",
              "      <th>ID</th>\n",
              "      <th>Address</th>\n",
              "      <th>City</th>\n",
              "      <th>State</th>\n",
              "      <th>Country</th>\n",
              "      <th>Name</th>\n",
              "      <th>Employees</th>\n",
              "    </tr>\n",
              "  </thead>\n",
              "  <tbody>\n",
              "    <tr>\n",
              "      <th>0</th>\n",
              "      <td>1</td>\n",
              "      <td>3666 21st St</td>\n",
              "      <td>San Francisco</td>\n",
              "      <td>CA 94114</td>\n",
              "      <td>USA</td>\n",
              "      <td>Madeira</td>\n",
              "      <td>8</td>\n",
              "    </tr>\n",
              "    <tr>\n",
              "      <th>1</th>\n",
              "      <td>2</td>\n",
              "      <td>735 Dolores St</td>\n",
              "      <td>San Francisco</td>\n",
              "      <td>CA 94119</td>\n",
              "      <td>USA</td>\n",
              "      <td>Bready Shop</td>\n",
              "      <td>15</td>\n",
              "    </tr>\n",
              "    <tr>\n",
              "      <th>2</th>\n",
              "      <td>3</td>\n",
              "      <td>332 Hill St</td>\n",
              "      <td>San Francisco</td>\n",
              "      <td>California 94114</td>\n",
              "      <td>USA</td>\n",
              "      <td>Super River</td>\n",
              "      <td>25</td>\n",
              "    </tr>\n",
              "    <tr>\n",
              "      <th>3</th>\n",
              "      <td>4</td>\n",
              "      <td>3995 23rd St</td>\n",
              "      <td>San Francisco</td>\n",
              "      <td>CA 94114</td>\n",
              "      <td>USA</td>\n",
              "      <td>Ben's Shop</td>\n",
              "      <td>10</td>\n",
              "    </tr>\n",
              "    <tr>\n",
              "      <th>4</th>\n",
              "      <td>5</td>\n",
              "      <td>1056 Sanchez St</td>\n",
              "      <td>San Francisco</td>\n",
              "      <td>California</td>\n",
              "      <td>USA</td>\n",
              "      <td>Sanchez</td>\n",
              "      <td>12</td>\n",
              "    </tr>\n",
              "    <tr>\n",
              "      <th>5</th>\n",
              "      <td>6</td>\n",
              "      <td>551 Alvarado St</td>\n",
              "      <td>San Francisco</td>\n",
              "      <td>CA 94114</td>\n",
              "      <td>USA</td>\n",
              "      <td>Richvalley</td>\n",
              "      <td>20</td>\n",
              "    </tr>\n",
              "  </tbody>\n",
              "</table>\n",
              "</div>"
            ],
            "text/plain": [
              "   ID          Address           City             State Country          Name  \\\n",
              "0   1     3666 21st St  San Francisco          CA 94114     USA       Madeira   \n",
              "1   2   735 Dolores St  San Francisco          CA 94119     USA   Bready Shop   \n",
              "2   3      332 Hill St  San Francisco  California 94114     USA   Super River   \n",
              "3   4     3995 23rd St  San Francisco          CA 94114     USA    Ben's Shop   \n",
              "4   5  1056 Sanchez St  San Francisco        California     USA       Sanchez   \n",
              "5   6  551 Alvarado St  San Francisco          CA 94114     USA    Richvalley   \n",
              "\n",
              "   Employees  \n",
              "0          8  \n",
              "1         15  \n",
              "2         25  \n",
              "3         10  \n",
              "4         12  \n",
              "5         20  "
            ]
          },
          "execution_count": 20,
          "metadata": {},
          "output_type": "execute_result"
        }
      ],
      "source": [
        "df3 = pd.read_csv(\"files/supermarkets/supermarkets-commas.txt\")\n",
        "df4 = pd.read_csv(\"files/supermarkets/supermarkets-semi-colons.txt\", sep=\";\")\n",
        "df4"
      ]
    },
    {
      "cell_type": "code",
      "execution_count": 22,
      "metadata": {},
      "outputs": [
        {
          "data": {
            "text/html": [
              "<div>\n",
              "<style scoped>\n",
              "    .dataframe tbody tr th:only-of-type {\n",
              "        vertical-align: middle;\n",
              "    }\n",
              "\n",
              "    .dataframe tbody tr th {\n",
              "        vertical-align: top;\n",
              "    }\n",
              "\n",
              "    .dataframe thead th {\n",
              "        text-align: right;\n",
              "    }\n",
              "</style>\n",
              "<table border=\"1\" class=\"dataframe\">\n",
              "  <thead>\n",
              "    <tr style=\"text-align: right;\">\n",
              "      <th></th>\n",
              "      <th>Address</th>\n",
              "      <th>City</th>\n",
              "      <th>State</th>\n",
              "      <th>Country</th>\n",
              "      <th>Name</th>\n",
              "      <th>Employees</th>\n",
              "    </tr>\n",
              "    <tr>\n",
              "      <th>ID</th>\n",
              "      <th></th>\n",
              "      <th></th>\n",
              "      <th></th>\n",
              "      <th></th>\n",
              "      <th></th>\n",
              "      <th></th>\n",
              "    </tr>\n",
              "  </thead>\n",
              "  <tbody>\n",
              "    <tr>\n",
              "      <th>1</th>\n",
              "      <td>3666 21st St</td>\n",
              "      <td>San Francisco</td>\n",
              "      <td>CA 94114</td>\n",
              "      <td>USA</td>\n",
              "      <td>Madeira</td>\n",
              "      <td>8</td>\n",
              "    </tr>\n",
              "    <tr>\n",
              "      <th>2</th>\n",
              "      <td>735 Dolores St</td>\n",
              "      <td>San Francisco</td>\n",
              "      <td>CA 94119</td>\n",
              "      <td>USA</td>\n",
              "      <td>Bready Shop</td>\n",
              "      <td>15</td>\n",
              "    </tr>\n",
              "    <tr>\n",
              "      <th>3</th>\n",
              "      <td>332 Hill St</td>\n",
              "      <td>San Francisco</td>\n",
              "      <td>California 94114</td>\n",
              "      <td>USA</td>\n",
              "      <td>Super River</td>\n",
              "      <td>25</td>\n",
              "    </tr>\n",
              "    <tr>\n",
              "      <th>4</th>\n",
              "      <td>3995 23rd St</td>\n",
              "      <td>San Francisco</td>\n",
              "      <td>CA 94114</td>\n",
              "      <td>USA</td>\n",
              "      <td>Ben's Shop</td>\n",
              "      <td>10</td>\n",
              "    </tr>\n",
              "    <tr>\n",
              "      <th>5</th>\n",
              "      <td>1056 Sanchez St</td>\n",
              "      <td>San Francisco</td>\n",
              "      <td>California</td>\n",
              "      <td>USA</td>\n",
              "      <td>Sanchez</td>\n",
              "      <td>12</td>\n",
              "    </tr>\n",
              "    <tr>\n",
              "      <th>6</th>\n",
              "      <td>551 Alvarado St</td>\n",
              "      <td>San Francisco</td>\n",
              "      <td>CA 94114</td>\n",
              "      <td>USA</td>\n",
              "      <td>Richvalley</td>\n",
              "      <td>20</td>\n",
              "    </tr>\n",
              "  </tbody>\n",
              "</table>\n",
              "</div>"
            ],
            "text/plain": [
              "            Address           City             State Country         Name  \\\n",
              "ID                                                                          \n",
              "1      3666 21st St  San Francisco          CA 94114     USA      Madeira   \n",
              "2    735 Dolores St  San Francisco          CA 94119     USA  Bready Shop   \n",
              "3       332 Hill St  San Francisco  California 94114     USA  Super River   \n",
              "4      3995 23rd St  San Francisco          CA 94114     USA   Ben's Shop   \n",
              "5   1056 Sanchez St  San Francisco        California     USA      Sanchez   \n",
              "6   551 Alvarado St  San Francisco          CA 94114     USA   Richvalley   \n",
              "\n",
              "    Employees  \n",
              "ID             \n",
              "1           8  \n",
              "2          15  \n",
              "3          25  \n",
              "4          10  \n",
              "5          12  \n",
              "6          20  "
            ]
          },
          "execution_count": 22,
          "metadata": {},
          "output_type": "execute_result"
        }
      ],
      "source": [
        "# Setting Index values\n",
        "df5 = df3.set_index(\"ID\")\n",
        "df5"
      ]
    },
    {
      "cell_type": "code",
      "execution_count": 23,
      "metadata": {},
      "outputs": [],
      "source": [
        "# Geocode library for generating long/lat co-ordinates from an address\n",
        "from geopy.geocoders import ArcGIS\n",
        "nom = ArcGIS()"
      ]
    },
    {
      "cell_type": "code",
      "execution_count": 29,
      "metadata": {},
      "outputs": [
        {
          "name": "stdout",
          "output_type": "stream",
          "text": [
            "37.75292099814533 -122.43170295955227\n"
          ]
        },
        {
          "data": {
            "text/plain": [
              "geopy.location.Location"
            ]
          },
          "execution_count": 29,
          "metadata": {},
          "output_type": "execute_result"
        }
      ],
      "source": [
        "n = nom.geocode(\"3995 23rd St, San Francisco, CA 94114\") # returns a location data type from an address\n",
        "print(n.latitude, n.longitude)\n",
        "type(n)"
      ]
    },
    {
      "cell_type": "code",
      "execution_count": 34,
      "metadata": {},
      "outputs": [
        {
          "data": {
            "text/html": [
              "<div>\n",
              "<style scoped>\n",
              "    .dataframe tbody tr th:only-of-type {\n",
              "        vertical-align: middle;\n",
              "    }\n",
              "\n",
              "    .dataframe tbody tr th {\n",
              "        vertical-align: top;\n",
              "    }\n",
              "\n",
              "    .dataframe thead th {\n",
              "        text-align: right;\n",
              "    }\n",
              "</style>\n",
              "<table border=\"1\" class=\"dataframe\">\n",
              "  <thead>\n",
              "    <tr style=\"text-align: right;\">\n",
              "      <th></th>\n",
              "      <th>ID</th>\n",
              "      <th>Address</th>\n",
              "      <th>City</th>\n",
              "      <th>State</th>\n",
              "      <th>Country</th>\n",
              "      <th>Name</th>\n",
              "      <th>Employees</th>\n",
              "    </tr>\n",
              "  </thead>\n",
              "  <tbody>\n",
              "    <tr>\n",
              "      <th>0</th>\n",
              "      <td>1</td>\n",
              "      <td>3666 21st St</td>\n",
              "      <td>San Francisco</td>\n",
              "      <td>CA 94114</td>\n",
              "      <td>USA</td>\n",
              "      <td>Madeira</td>\n",
              "      <td>8</td>\n",
              "    </tr>\n",
              "    <tr>\n",
              "      <th>1</th>\n",
              "      <td>2</td>\n",
              "      <td>735 Dolores St</td>\n",
              "      <td>San Francisco</td>\n",
              "      <td>CA 94119</td>\n",
              "      <td>USA</td>\n",
              "      <td>Bready Shop</td>\n",
              "      <td>15</td>\n",
              "    </tr>\n",
              "    <tr>\n",
              "      <th>2</th>\n",
              "      <td>3</td>\n",
              "      <td>332 Hill St</td>\n",
              "      <td>San Francisco</td>\n",
              "      <td>California 94114</td>\n",
              "      <td>USA</td>\n",
              "      <td>Super River</td>\n",
              "      <td>25</td>\n",
              "    </tr>\n",
              "    <tr>\n",
              "      <th>3</th>\n",
              "      <td>4</td>\n",
              "      <td>3995 23rd St</td>\n",
              "      <td>San Francisco</td>\n",
              "      <td>CA 94114</td>\n",
              "      <td>USA</td>\n",
              "      <td>Ben's Shop</td>\n",
              "      <td>10</td>\n",
              "    </tr>\n",
              "    <tr>\n",
              "      <th>4</th>\n",
              "      <td>5</td>\n",
              "      <td>1056 Sanchez St</td>\n",
              "      <td>San Francisco</td>\n",
              "      <td>California</td>\n",
              "      <td>USA</td>\n",
              "      <td>Sanchez</td>\n",
              "      <td>12</td>\n",
              "    </tr>\n",
              "    <tr>\n",
              "      <th>5</th>\n",
              "      <td>6</td>\n",
              "      <td>551 Alvarado St</td>\n",
              "      <td>San Francisco</td>\n",
              "      <td>CA 94114</td>\n",
              "      <td>USA</td>\n",
              "      <td>Richvalley</td>\n",
              "      <td>20</td>\n",
              "    </tr>\n",
              "  </tbody>\n",
              "</table>\n",
              "</div>"
            ],
            "text/plain": [
              "   ID          Address           City             State Country         Name  \\\n",
              "0   1     3666 21st St  San Francisco          CA 94114     USA      Madeira   \n",
              "1   2   735 Dolores St  San Francisco          CA 94119     USA  Bready Shop   \n",
              "2   3      332 Hill St  San Francisco  California 94114     USA  Super River   \n",
              "3   4     3995 23rd St  San Francisco          CA 94114     USA   Ben's Shop   \n",
              "4   5  1056 Sanchez St  San Francisco        California     USA      Sanchez   \n",
              "5   6  551 Alvarado St  San Francisco          CA 94114     USA   Richvalley   \n",
              "\n",
              "   Employees  \n",
              "0          8  \n",
              "1         15  \n",
              "2         25  \n",
              "3         10  \n",
              "4         12  \n",
              "5         20  "
            ]
          },
          "execution_count": 34,
          "metadata": {},
          "output_type": "execute_result"
        }
      ],
      "source": [
        "df = pd.read_csv(\"files/supermarkets/supermarkets.csv\")\n",
        "df"
      ]
    },
    {
      "cell_type": "code",
      "execution_count": 35,
      "metadata": {},
      "outputs": [
        {
          "data": {
            "text/html": [
              "<div>\n",
              "<style scoped>\n",
              "    .dataframe tbody tr th:only-of-type {\n",
              "        vertical-align: middle;\n",
              "    }\n",
              "\n",
              "    .dataframe tbody tr th {\n",
              "        vertical-align: top;\n",
              "    }\n",
              "\n",
              "    .dataframe thead th {\n",
              "        text-align: right;\n",
              "    }\n",
              "</style>\n",
              "<table border=\"1\" class=\"dataframe\">\n",
              "  <thead>\n",
              "    <tr style=\"text-align: right;\">\n",
              "      <th></th>\n",
              "      <th>ID</th>\n",
              "      <th>Address</th>\n",
              "      <th>City</th>\n",
              "      <th>State</th>\n",
              "      <th>Country</th>\n",
              "      <th>Name</th>\n",
              "      <th>Employees</th>\n",
              "    </tr>\n",
              "  </thead>\n",
              "  <tbody>\n",
              "    <tr>\n",
              "      <th>0</th>\n",
              "      <td>1</td>\n",
              "      <td>3666 21st St, San Francisco, CA 94114, USA</td>\n",
              "      <td>San Francisco</td>\n",
              "      <td>CA 94114</td>\n",
              "      <td>USA</td>\n",
              "      <td>Madeira</td>\n",
              "      <td>8</td>\n",
              "    </tr>\n",
              "    <tr>\n",
              "      <th>1</th>\n",
              "      <td>2</td>\n",
              "      <td>735 Dolores St, San Francisco, CA 94119, USA</td>\n",
              "      <td>San Francisco</td>\n",
              "      <td>CA 94119</td>\n",
              "      <td>USA</td>\n",
              "      <td>Bready Shop</td>\n",
              "      <td>15</td>\n",
              "    </tr>\n",
              "    <tr>\n",
              "      <th>2</th>\n",
              "      <td>3</td>\n",
              "      <td>332 Hill St, San Francisco, California 94114, USA</td>\n",
              "      <td>San Francisco</td>\n",
              "      <td>California 94114</td>\n",
              "      <td>USA</td>\n",
              "      <td>Super River</td>\n",
              "      <td>25</td>\n",
              "    </tr>\n",
              "    <tr>\n",
              "      <th>3</th>\n",
              "      <td>4</td>\n",
              "      <td>3995 23rd St, San Francisco, CA 94114, USA</td>\n",
              "      <td>San Francisco</td>\n",
              "      <td>CA 94114</td>\n",
              "      <td>USA</td>\n",
              "      <td>Ben's Shop</td>\n",
              "      <td>10</td>\n",
              "    </tr>\n",
              "    <tr>\n",
              "      <th>4</th>\n",
              "      <td>5</td>\n",
              "      <td>1056 Sanchez St, San Francisco, California, USA</td>\n",
              "      <td>San Francisco</td>\n",
              "      <td>California</td>\n",
              "      <td>USA</td>\n",
              "      <td>Sanchez</td>\n",
              "      <td>12</td>\n",
              "    </tr>\n",
              "    <tr>\n",
              "      <th>5</th>\n",
              "      <td>6</td>\n",
              "      <td>551 Alvarado St, San Francisco, CA 94114, USA</td>\n",
              "      <td>San Francisco</td>\n",
              "      <td>CA 94114</td>\n",
              "      <td>USA</td>\n",
              "      <td>Richvalley</td>\n",
              "      <td>20</td>\n",
              "    </tr>\n",
              "  </tbody>\n",
              "</table>\n",
              "</div>"
            ],
            "text/plain": [
              "   ID                                            Address           City  \\\n",
              "0   1         3666 21st St, San Francisco, CA 94114, USA  San Francisco   \n",
              "1   2       735 Dolores St, San Francisco, CA 94119, USA  San Francisco   \n",
              "2   3  332 Hill St, San Francisco, California 94114, USA  San Francisco   \n",
              "3   4         3995 23rd St, San Francisco, CA 94114, USA  San Francisco   \n",
              "4   5    1056 Sanchez St, San Francisco, California, USA  San Francisco   \n",
              "5   6      551 Alvarado St, San Francisco, CA 94114, USA  San Francisco   \n",
              "\n",
              "              State Country         Name  Employees  \n",
              "0          CA 94114     USA      Madeira          8  \n",
              "1          CA 94119     USA  Bready Shop         15  \n",
              "2  California 94114     USA  Super River         25  \n",
              "3          CA 94114     USA   Ben's Shop         10  \n",
              "4        California     USA      Sanchez         12  \n",
              "5          CA 94114     USA   Richvalley         20  "
            ]
          },
          "execution_count": 35,
          "metadata": {},
          "output_type": "execute_result"
        }
      ],
      "source": [
        "df[\"Address\"] = df[\"Address\"]+\", \"+df[\"City\"]+\", \"+df[\"State\"]+\", \"+df[\"Country\"]\n",
        "df"
      ]
    },
    {
      "cell_type": "code",
      "execution_count": 36,
      "metadata": {},
      "outputs": [
        {
          "data": {
            "text/html": [
              "<div>\n",
              "<style scoped>\n",
              "    .dataframe tbody tr th:only-of-type {\n",
              "        vertical-align: middle;\n",
              "    }\n",
              "\n",
              "    .dataframe tbody tr th {\n",
              "        vertical-align: top;\n",
              "    }\n",
              "\n",
              "    .dataframe thead th {\n",
              "        text-align: right;\n",
              "    }\n",
              "</style>\n",
              "<table border=\"1\" class=\"dataframe\">\n",
              "  <thead>\n",
              "    <tr style=\"text-align: right;\">\n",
              "      <th></th>\n",
              "      <th>ID</th>\n",
              "      <th>Address</th>\n",
              "      <th>City</th>\n",
              "      <th>State</th>\n",
              "      <th>Country</th>\n",
              "      <th>Name</th>\n",
              "      <th>Employees</th>\n",
              "      <th>Coordinates</th>\n",
              "    </tr>\n",
              "  </thead>\n",
              "  <tbody>\n",
              "    <tr>\n",
              "      <th>0</th>\n",
              "      <td>1</td>\n",
              "      <td>3666 21st St, San Francisco, CA 94114, USA</td>\n",
              "      <td>San Francisco</td>\n",
              "      <td>CA 94114</td>\n",
              "      <td>USA</td>\n",
              "      <td>Madeira</td>\n",
              "      <td>8</td>\n",
              "      <td>(3666 21st St, San Francisco, California, 9411...</td>\n",
              "    </tr>\n",
              "    <tr>\n",
              "      <th>1</th>\n",
              "      <td>2</td>\n",
              "      <td>735 Dolores St, San Francisco, CA 94119, USA</td>\n",
              "      <td>San Francisco</td>\n",
              "      <td>CA 94119</td>\n",
              "      <td>USA</td>\n",
              "      <td>Bready Shop</td>\n",
              "      <td>15</td>\n",
              "      <td>(735 Dolores St, San Francisco, California, 94...</td>\n",
              "    </tr>\n",
              "    <tr>\n",
              "      <th>2</th>\n",
              "      <td>3</td>\n",
              "      <td>332 Hill St, San Francisco, California 94114, USA</td>\n",
              "      <td>San Francisco</td>\n",
              "      <td>California 94114</td>\n",
              "      <td>USA</td>\n",
              "      <td>Super River</td>\n",
              "      <td>25</td>\n",
              "      <td>(332 Hill St, San Francisco, California, 94114...</td>\n",
              "    </tr>\n",
              "    <tr>\n",
              "      <th>3</th>\n",
              "      <td>4</td>\n",
              "      <td>3995 23rd St, San Francisco, CA 94114, USA</td>\n",
              "      <td>San Francisco</td>\n",
              "      <td>CA 94114</td>\n",
              "      <td>USA</td>\n",
              "      <td>Ben's Shop</td>\n",
              "      <td>10</td>\n",
              "      <td>(3995 23rd St, San Francisco, California, 9411...</td>\n",
              "    </tr>\n",
              "    <tr>\n",
              "      <th>4</th>\n",
              "      <td>5</td>\n",
              "      <td>1056 Sanchez St, San Francisco, California, USA</td>\n",
              "      <td>San Francisco</td>\n",
              "      <td>California</td>\n",
              "      <td>USA</td>\n",
              "      <td>Sanchez</td>\n",
              "      <td>12</td>\n",
              "      <td>(1056 Sanchez St, San Francisco, California, 9...</td>\n",
              "    </tr>\n",
              "    <tr>\n",
              "      <th>5</th>\n",
              "      <td>6</td>\n",
              "      <td>551 Alvarado St, San Francisco, CA 94114, USA</td>\n",
              "      <td>San Francisco</td>\n",
              "      <td>CA 94114</td>\n",
              "      <td>USA</td>\n",
              "      <td>Richvalley</td>\n",
              "      <td>20</td>\n",
              "      <td>(551 Alvarado St, San Francisco, California, 9...</td>\n",
              "    </tr>\n",
              "  </tbody>\n",
              "</table>\n",
              "</div>"
            ],
            "text/plain": [
              "   ID                                            Address           City  \\\n",
              "0   1         3666 21st St, San Francisco, CA 94114, USA  San Francisco   \n",
              "1   2       735 Dolores St, San Francisco, CA 94119, USA  San Francisco   \n",
              "2   3  332 Hill St, San Francisco, California 94114, USA  San Francisco   \n",
              "3   4         3995 23rd St, San Francisco, CA 94114, USA  San Francisco   \n",
              "4   5    1056 Sanchez St, San Francisco, California, USA  San Francisco   \n",
              "5   6      551 Alvarado St, San Francisco, CA 94114, USA  San Francisco   \n",
              "\n",
              "              State Country         Name  Employees  \\\n",
              "0          CA 94114     USA      Madeira          8   \n",
              "1          CA 94119     USA  Bready Shop         15   \n",
              "2  California 94114     USA  Super River         25   \n",
              "3          CA 94114     USA   Ben's Shop         10   \n",
              "4        California     USA      Sanchez         12   \n",
              "5          CA 94114     USA   Richvalley         20   \n",
              "\n",
              "                                         Coordinates  \n",
              "0  (3666 21st St, San Francisco, California, 9411...  \n",
              "1  (735 Dolores St, San Francisco, California, 94...  \n",
              "2  (332 Hill St, San Francisco, California, 94114...  \n",
              "3  (3995 23rd St, San Francisco, California, 9411...  \n",
              "4  (1056 Sanchez St, San Francisco, California, 9...  \n",
              "5  (551 Alvarado St, San Francisco, California, 9...  "
            ]
          },
          "execution_count": 36,
          "metadata": {},
          "output_type": "execute_result"
        }
      ],
      "source": [
        "df[\"Coordinates\"] = df[\"Address\"].apply(nom.geocode)\n",
        "df"
      ]
    },
    {
      "cell_type": "code",
      "execution_count": 37,
      "metadata": {},
      "outputs": [],
      "source": [
        "df[\"Latitude\"] = df[\"Coordinates\"].apply(lambda x: x.latitude if x != None else None)"
      ]
    },
    {
      "cell_type": "code",
      "execution_count": 41,
      "metadata": {},
      "outputs": [],
      "source": [
        "df[\"Longitude\"] = df[\"Coordinates\"].apply(lambda x: x.longitude if x != None else None)"
      ]
    },
    {
      "cell_type": "code",
      "execution_count": 42,
      "metadata": {},
      "outputs": [
        {
          "data": {
            "text/html": [
              "<div>\n",
              "<style scoped>\n",
              "    .dataframe tbody tr th:only-of-type {\n",
              "        vertical-align: middle;\n",
              "    }\n",
              "\n",
              "    .dataframe tbody tr th {\n",
              "        vertical-align: top;\n",
              "    }\n",
              "\n",
              "    .dataframe thead th {\n",
              "        text-align: right;\n",
              "    }\n",
              "</style>\n",
              "<table border=\"1\" class=\"dataframe\">\n",
              "  <thead>\n",
              "    <tr style=\"text-align: right;\">\n",
              "      <th></th>\n",
              "      <th>ID</th>\n",
              "      <th>Address</th>\n",
              "      <th>City</th>\n",
              "      <th>State</th>\n",
              "      <th>Country</th>\n",
              "      <th>Name</th>\n",
              "      <th>Employees</th>\n",
              "      <th>Coordinates</th>\n",
              "      <th>Latitude</th>\n",
              "      <th>Longitude</th>\n",
              "    </tr>\n",
              "  </thead>\n",
              "  <tbody>\n",
              "    <tr>\n",
              "      <th>0</th>\n",
              "      <td>1</td>\n",
              "      <td>3666 21st St, San Francisco, CA 94114, USA</td>\n",
              "      <td>San Francisco</td>\n",
              "      <td>CA 94114</td>\n",
              "      <td>USA</td>\n",
              "      <td>Madeira</td>\n",
              "      <td>8</td>\n",
              "      <td>(3666 21st St, San Francisco, California, 9411...</td>\n",
              "      <td>37.756632</td>\n",
              "      <td>-122.429411</td>\n",
              "    </tr>\n",
              "    <tr>\n",
              "      <th>1</th>\n",
              "      <td>2</td>\n",
              "      <td>735 Dolores St, San Francisco, CA 94119, USA</td>\n",
              "      <td>San Francisco</td>\n",
              "      <td>CA 94119</td>\n",
              "      <td>USA</td>\n",
              "      <td>Bready Shop</td>\n",
              "      <td>15</td>\n",
              "      <td>(735 Dolores St, San Francisco, California, 94...</td>\n",
              "      <td>37.757829</td>\n",
              "      <td>-122.425373</td>\n",
              "    </tr>\n",
              "    <tr>\n",
              "      <th>2</th>\n",
              "      <td>3</td>\n",
              "      <td>332 Hill St, San Francisco, California 94114, USA</td>\n",
              "      <td>San Francisco</td>\n",
              "      <td>California 94114</td>\n",
              "      <td>USA</td>\n",
              "      <td>Super River</td>\n",
              "      <td>25</td>\n",
              "      <td>(332 Hill St, San Francisco, California, 94114...</td>\n",
              "      <td>37.755845</td>\n",
              "      <td>-122.428813</td>\n",
              "    </tr>\n",
              "    <tr>\n",
              "      <th>3</th>\n",
              "      <td>4</td>\n",
              "      <td>3995 23rd St, San Francisco, CA 94114, USA</td>\n",
              "      <td>San Francisco</td>\n",
              "      <td>CA 94114</td>\n",
              "      <td>USA</td>\n",
              "      <td>Ben's Shop</td>\n",
              "      <td>10</td>\n",
              "      <td>(3995 23rd St, San Francisco, California, 9411...</td>\n",
              "      <td>37.752921</td>\n",
              "      <td>-122.431703</td>\n",
              "    </tr>\n",
              "    <tr>\n",
              "      <th>4</th>\n",
              "      <td>5</td>\n",
              "      <td>1056 Sanchez St, San Francisco, California, USA</td>\n",
              "      <td>San Francisco</td>\n",
              "      <td>California</td>\n",
              "      <td>USA</td>\n",
              "      <td>Sanchez</td>\n",
              "      <td>12</td>\n",
              "      <td>(1056 Sanchez St, San Francisco, California, 9...</td>\n",
              "      <td>37.752132</td>\n",
              "      <td>-122.430006</td>\n",
              "    </tr>\n",
              "    <tr>\n",
              "      <th>5</th>\n",
              "      <td>6</td>\n",
              "      <td>551 Alvarado St, San Francisco, CA 94114, USA</td>\n",
              "      <td>San Francisco</td>\n",
              "      <td>CA 94114</td>\n",
              "      <td>USA</td>\n",
              "      <td>Richvalley</td>\n",
              "      <td>20</td>\n",
              "      <td>(551 Alvarado St, San Francisco, California, 9...</td>\n",
              "      <td>37.753582</td>\n",
              "      <td>-122.433234</td>\n",
              "    </tr>\n",
              "  </tbody>\n",
              "</table>\n",
              "</div>"
            ],
            "text/plain": [
              "   ID                                            Address           City  \\\n",
              "0   1         3666 21st St, San Francisco, CA 94114, USA  San Francisco   \n",
              "1   2       735 Dolores St, San Francisco, CA 94119, USA  San Francisco   \n",
              "2   3  332 Hill St, San Francisco, California 94114, USA  San Francisco   \n",
              "3   4         3995 23rd St, San Francisco, CA 94114, USA  San Francisco   \n",
              "4   5    1056 Sanchez St, San Francisco, California, USA  San Francisco   \n",
              "5   6      551 Alvarado St, San Francisco, CA 94114, USA  San Francisco   \n",
              "\n",
              "              State Country         Name  Employees  \\\n",
              "0          CA 94114     USA      Madeira          8   \n",
              "1          CA 94119     USA  Bready Shop         15   \n",
              "2  California 94114     USA  Super River         25   \n",
              "3          CA 94114     USA   Ben's Shop         10   \n",
              "4        California     USA      Sanchez         12   \n",
              "5          CA 94114     USA   Richvalley         20   \n",
              "\n",
              "                                         Coordinates   Latitude   Longitude  \n",
              "0  (3666 21st St, San Francisco, California, 9411...  37.756632 -122.429411  \n",
              "1  (735 Dolores St, San Francisco, California, 94...  37.757829 -122.425373  \n",
              "2  (332 Hill St, San Francisco, California, 94114...  37.755845 -122.428813  \n",
              "3  (3995 23rd St, San Francisco, California, 9411...  37.752921 -122.431703  \n",
              "4  (1056 Sanchez St, San Francisco, California, 9...  37.752132 -122.430006  \n",
              "5  (551 Alvarado St, San Francisco, California, 9...  37.753582 -122.433234  "
            ]
          },
          "execution_count": 42,
          "metadata": {},
          "output_type": "execute_result"
        }
      ],
      "source": [
        "df"
      ]
    },
    {
      "cell_type": "code",
      "execution_count": 58,
      "metadata": {},
      "outputs": [],
      "source": [
        "# OpenCV is an image processing library\n",
        "import cv2\n",
        "import numpy as np"
      ]
    },
    {
      "cell_type": "code",
      "execution_count": 46,
      "metadata": {},
      "outputs": [
        {
          "name": "stdout",
          "output_type": "stream",
          "text": [
            "[[187 158 104 121 143]\n",
            " [198 125 255 255 147]\n",
            " [209 134 255  97 182]]\n"
          ]
        },
        {
          "data": {
            "text/plain": [
              "array([[[187, 187, 187],\n",
              "        [158, 158, 158],\n",
              "        [104, 104, 104],\n",
              "        [121, 121, 121],\n",
              "        [143, 143, 143]],\n",
              "\n",
              "       [[198, 198, 198],\n",
              "        [125, 125, 125],\n",
              "        [255, 255, 255],\n",
              "        [255, 255, 255],\n",
              "        [147, 147, 147]],\n",
              "\n",
              "       [[209, 209, 209],\n",
              "        [134, 134, 134],\n",
              "        [255, 255, 255],\n",
              "        [ 97,  97,  97],\n",
              "        [182, 182, 182]]], dtype=uint8)"
            ]
          },
          "execution_count": 46,
          "metadata": {},
          "output_type": "execute_result"
        }
      ],
      "source": [
        "im_g = cv2.imread(\"files/smallgray.png\", 0) #image read method 0 - grayscale , 1-rgb\n",
        "print(im_g) # prints a numpy array of the colours of the pixels in the array\n",
        "im_c = cv2.imread(\"files/smallgray.png\", 1)\n",
        "im_c"
      ]
    },
    {
      "cell_type": "code",
      "execution_count": 52,
      "metadata": {},
      "outputs": [
        {
          "name": "stdout",
          "output_type": "stream",
          "text": [
            "(3, 5) (3, 5, 3)\n",
            "[[187 158 104 121 143]\n",
            " [198 125 255 255 147]\n",
            " [209 134 255  97 182]]\n"
          ]
        },
        {
          "data": {
            "text/plain": [
              "array([[104, 121],\n",
              "       [255, 255]], dtype=uint8)"
            ]
          },
          "execution_count": 52,
          "metadata": {},
          "output_type": "execute_result"
        }
      ],
      "source": [
        "# MultiDimensional array slicing\n",
        "print(im_g.shape, im_c.shape)\n",
        "print(im_g)\n",
        "im_g[0:2, 2:4]"
      ]
    },
    {
      "cell_type": "code",
      "execution_count": 57,
      "metadata": {},
      "outputs": [
        {
          "name": "stdout",
          "output_type": "stream",
          "text": [
            "[[187 158 104 121 143]\n",
            " [198 125 255 255 147]\n",
            " [209 134 255  97 182]]\n",
            "[187 158 104 121 143]\n",
            "[198 125 255 255 147]\n",
            "[209 134 255  97 182]\n",
            "[187 198 209]\n",
            "[158 125 134]\n",
            "[104 255 255]\n",
            "[121 255  97]\n",
            "[143 147 182]\n",
            "187\n",
            "158\n",
            "104\n",
            "121\n",
            "143\n",
            "198\n",
            "125\n",
            "255\n",
            "255\n",
            "147\n",
            "209\n",
            "134\n",
            "255\n",
            "97\n",
            "182\n"
          ]
        }
      ],
      "source": [
        "# iterating through arrays\n",
        "print(im_g)\n",
        "for i in im_g:\n",
        "    print(i) #will print the rows\n",
        "\n",
        "for i in im_g.T:\n",
        "    print(i) # print columns\n",
        "\n",
        "for i in im_g.flat:\n",
        "    print(i) # print values individually"
      ]
    },
    {
      "cell_type": "code",
      "execution_count": 60,
      "metadata": {},
      "outputs": [
        {
          "name": "stdout",
          "output_type": "stream",
          "text": [
            "[[187 158 104 121 143]\n",
            " [198 125 255 255 147]\n",
            " [209 134 255  97 182]] [[187 158 104 121 143 187 158 104 121 143]\n",
            " [198 125 255 255 147 198 125 255 255 147]\n",
            " [209 134 255  97 182 209 134 255  97 182]]\n"
          ]
        }
      ],
      "source": [
        "# stacking arrays\n",
        "im_g_stacked = np.hstack((im_g, im_g)) # takes a tuple of arrays to stack them horizontally\n",
        "print(im_g, im_g_stacked)"
      ]
    },
    {
      "cell_type": "code",
      "execution_count": 61,
      "metadata": {},
      "outputs": [
        {
          "name": "stdout",
          "output_type": "stream",
          "text": [
            "[[187 158 104 121 143]\n",
            " [198 125 255 255 147]\n",
            " [209 134 255  97 182]] [[187 158 104 121 143]\n",
            " [198 125 255 255 147]\n",
            " [209 134 255  97 182]\n",
            " [187 158 104 121 143]\n",
            " [198 125 255 255 147]\n",
            " [209 134 255  97 182]]\n"
          ]
        }
      ],
      "source": [
        "im_g_stacked = np.vstack((im_g, im_g)) # takes a tuple of arrays to stack them vertical\n",
        "print(im_g, im_g_stacked)"
      ]
    },
    {
      "cell_type": "code",
      "execution_count": null,
      "metadata": {},
      "outputs": [],
      "source": []
    }
  ],
  "metadata": {
    "colab": {
      "provenance": []
    },
    "kernelspec": {
      "display_name": "Python 3.10.0 64-bit",
      "language": "python",
      "name": "python3"
    },
    "language_info": {
      "codemirror_mode": {
        "name": "ipython",
        "version": 3
      },
      "file_extension": ".py",
      "mimetype": "text/x-python",
      "name": "python",
      "nbconvert_exporter": "python",
      "pygments_lexer": "ipython3",
      "version": "3.10.0"
    },
    "orig_nbformat": 4,
    "vscode": {
      "interpreter": {
        "hash": "463e62ad2bb899d6fe38230bd5850dbad6ba1b0e22bf8bd765426624890397ac"
      }
    }
  },
  "nbformat": 4,
  "nbformat_minor": 0
}
