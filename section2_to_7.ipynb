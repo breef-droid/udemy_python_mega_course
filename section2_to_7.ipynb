{
 "cells": [
  {
   "cell_type": "markdown",
   "metadata": {},
   "source": [
    "# Section3: Basics: Data Types\n",
    "[Course](https://www.udemy.com/course/former-python-mega-course-build-10-real-world-applications/learn/lecture/34362574#overview)\n",
    "## List types\n",
    "Lists are known as compound data types data structures, every data type has its own sintax. Lists are assigned by [].<br>\n",
    "We can use range objects converted to lists to generate a ranged list.<br>\n",
    "By using the dir(\"datatype\") function, we can see a list of all the classes attributes\n",
    "___\n",
    "## Dictionary Types\n",
    "Dicts are assigned by {}. Where dcit items are made up of key, value pairs.\n",
    "___\n",
    "## Tuples\n",
    "Tuples are assinged by (). They are immutable data types, much quicker than lists but not modifiable. You can have a list in a tuple and mutate the list, but you cannot mutate the tupple itself."
   ]
  },
  {
   "cell_type": "code",
   "execution_count": 28,
   "metadata": {},
   "outputs": [],
   "source": [
    "test_tupple = ([4, 3, 2], 5, \"jaor\")"
   ]
  },
  {
   "cell_type": "code",
   "execution_count": 32,
   "metadata": {},
   "outputs": [
    {
     "data": {
      "text/plain": [
       "([4, 3, 2, 6, 6], 5, 'jaor')"
      ]
     },
     "execution_count": 32,
     "metadata": {},
     "output_type": "execute_result"
    }
   ],
   "source": [
    "test_tupple[0].append(6)\n",
    "test_tupple"
   ]
  },
  {
   "cell_type": "code",
   "execution_count": 33,
   "metadata": {},
   "outputs": [
    {
     "ename": "AttributeError",
     "evalue": "'tuple' object has no attribute 'appen'",
     "output_type": "error",
     "traceback": [
      "\u001b[1;31m---------------------------------------------------------------------------\u001b[0m",
      "\u001b[1;31mAttributeError\u001b[0m                            Traceback (most recent call last)",
      "\u001b[1;32m~\\AppData\\Local\\Temp/ipykernel_22848/2283164656.py\u001b[0m in \u001b[0;36m<module>\u001b[1;34m\u001b[0m\n\u001b[1;32m----> 1\u001b[1;33m \u001b[0mtest_tupple\u001b[0m\u001b[1;33m.\u001b[0m\u001b[0mappen\u001b[0m\u001b[1;33m(\u001b[0m\u001b[1;36m5\u001b[0m\u001b[1;33m)\u001b[0m\u001b[1;33m\u001b[0m\u001b[1;33m\u001b[0m\u001b[0m\n\u001b[0m",
      "\u001b[1;31mAttributeError\u001b[0m: 'tuple' object has no attribute 'appen'"
     ]
    }
   ],
   "source": [
    "test_tupple.appen(5)"
   ]
  },
  {
   "cell_type": "code",
   "execution_count": 36,
   "metadata": {},
   "outputs": [
    {
     "name": "stdout",
     "output_type": "stream",
     "text": [
      "Help on method_descriptor:\n",
      "\n",
      "remove(self, value, /)\n",
      "    Remove first occurrence of value.\n",
      "    \n",
      "    Raises ValueError if the value is not present.\n",
      "\n"
     ]
    }
   ],
   "source": [
    "help(list.remove)"
   ]
  },
  {
   "cell_type": "code",
   "execution_count": null,
   "metadata": {},
   "outputs": [],
   "source": []
  }
 ],
 "metadata": {
  "kernelspec": {
   "display_name": "Python 3.10.0 64-bit",
   "language": "python",
   "name": "python3"
  },
  "language_info": {
   "codemirror_mode": {
    "name": "ipython",
    "version": 3
   },
   "file_extension": ".py",
   "mimetype": "text/x-python",
   "name": "python",
   "nbconvert_exporter": "python",
   "pygments_lexer": "ipython3",
   "version": "3.10.0"
  },
  "orig_nbformat": 4,
  "vscode": {
   "interpreter": {
    "hash": "463e62ad2bb899d6fe38230bd5850dbad6ba1b0e22bf8bd765426624890397ac"
   }
  }
 },
 "nbformat": 4,
 "nbformat_minor": 2
}
